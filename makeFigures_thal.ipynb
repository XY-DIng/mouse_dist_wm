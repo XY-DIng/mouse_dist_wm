{
 "cells": [
  {
   "cell_type": "code",
   "execution_count": null,
   "id": "independent-record",
   "metadata": {
    "ExecuteTime": {
     "end_time": "2022-01-20T19:38:10.585947Z",
     "start_time": "2022-01-20T19:38:10.583415Z"
    }
   },
   "outputs": [],
   "source": [
    "# make figures for Thalamic model "
   ]
  },
  {
   "cell_type": "code",
   "execution_count": null,
   "id": "electronic-theater",
   "metadata": {
    "ExecuteTime": {
     "end_time": "2022-01-20T19:38:13.622822Z",
     "start_time": "2022-01-20T19:38:10.588318Z"
    }
   },
   "outputs": [],
   "source": [
    "import numpy as np\n",
    "import scipy as sp\n",
    "from scipy import stats\n",
    "\n",
    "import matplotlib as mpl\n",
    "import matplotlib.pyplot as plt\n",
    "import pandas as pd\n",
    "import brian2\n",
    "\n",
    "import pickle\n",
    "import copy\n",
    "\n",
    "mpl.rcParams['pdf.fonttype'] = 42\n",
    "mpl.rcParams['ps.fonttype'] = 42\n",
    "mpl.rcParams['svg.fonttype'] = 'none'\n",
    "\n",
    "from adjustText import adjust_text\n",
    "\n",
    "from ipynb.fs.defs.makeFigures import plotDynamics, plotDynamicsTwo, plotFRvsPVnotebook, generatePVHierDf, plotFRvsHiernotebook, plotFRvsrawPVnotebook\n"
   ]
  },
  {
   "cell_type": "code",
   "execution_count": null,
   "id": "hidden-parade",
   "metadata": {
    "ExecuteTime": {
     "end_time": "2022-01-20T20:00:22.169816Z",
     "start_time": "2022-01-20T20:00:21.977831Z"
    }
   },
   "outputs": [],
   "source": [
    "# load arealist\n",
    "area_list = list(np.loadtxt('results/area_list.csv', delimiter=',', dtype='str'))\n",
    "thal_list = list(np.loadtxt('results/thal_list.csv', delimiter=',', dtype='str'))\n",
    "\n",
    "# load connectivity \n",
    "conn_cxcx = np.loadtxt('results/conn_cxcx.csv', delimiter=',')\n",
    "conn_cxth = np.loadtxt('results/conn_cxth.csv', delimiter=',')\n",
    "conn_thcx = np.loadtxt('results/conn_thcx.csv', delimiter=',')\n",
    "\n",
    "# load interneuron density\n",
    "normPVgrad_df = pd.read_csv('results/dfPV.csv', header = 0, index_col=0)\n",
    "\n",
    "rawPV_df = pd.read_csv('results/dfPVraw.csv', header = 0, index_col=0)\n",
    "\n",
    "# load hierarchy\n",
    "hierarchy_df = pd.read_csv('results/dfHier.csv', header=0, index_col=0)\n",
    "\n",
    "# load thalamus hierarchy\n",
    "thal_hierarchy_df = pd.read_csv('results/dfThHier.csv', header=0, index_col=0)\n",
    "thal_hierarchy = np.array(thal_hierarchy_df['THhier'])\n",
    "\n",
    "# load model\n",
    "with open('results/model_V1_thal.pkl', 'rb') as f:\n",
    "    model = pickle.load(f)\n"
   ]
  },
  {
   "cell_type": "code",
   "execution_count": null,
   "id": "productive-disability",
   "metadata": {
    "ExecuteTime": {
     "end_time": "2022-01-20T20:00:22.389687Z",
     "start_time": "2022-01-20T20:00:22.381807Z"
    }
   },
   "outputs": [],
   "source": [
    "model.parameters['mu_EE']"
   ]
  },
  {
   "cell_type": "code",
   "execution_count": null,
   "id": "7a85cab7",
   "metadata": {},
   "outputs": [],
   "source": [
    "area_list[34]"
   ]
  },
  {
   "cell_type": "code",
   "execution_count": null,
   "id": "biblical-newfoundland",
   "metadata": {
    "ExecuteTime": {
     "end_time": "2022-01-20T20:00:23.575807Z",
     "start_time": "2022-01-20T20:00:22.922202Z"
    },
    "scrolled": true
   },
   "outputs": [],
   "source": [
    "ROIlist = [0,26,30,31,34, 38]\n",
    "print([area_list[i] for i in ROIlist])\n",
    "plotAreaList = [i+1 for i in ROIlist] \n",
    "plotDynamics(model, plotAreaList, 'FR', True, 2, (5,3), 12, True, 'makeFiguresThal/dynamicsPlot_thal_new.svg')"
   ]
  },
  {
   "cell_type": "code",
   "execution_count": null,
   "id": "66027181",
   "metadata": {},
   "outputs": [],
   "source": [
    "# noLabelAreas = ['SSp-ll','SSp-ul','SSp-n','SSp-m']\n",
    "noLabelAreas = ['SSp-ll','SSp-ul','SSp-n','SSp-m', 'SSp-un', 'AUDv', 'SSp-tr', 'VISpl', 'VISrl', 'VISli', 'RSPv',\n",
    "'RSPagl', 'RSPd', 'GU','PERI','ECT', 'VISal', 'VISC']\n"
   ]
  },
  {
   "cell_type": "code",
   "execution_count": null,
   "id": "local-possibility",
   "metadata": {
    "ExecuteTime": {
     "end_time": "2022-01-20T20:01:15.210191Z",
     "start_time": "2022-01-20T20:00:46.352594Z"
    }
   },
   "outputs": [],
   "source": [
    "# use the raw PV values not the normalized ones\n",
    "# plotFRvsPVnotebook(model, True, True, noLabelAreas, 8, (5,3), 12, True, 'makeFiguresThal/FRvsPVnotebook_thal.svg')\n",
    "\n",
    "# make plot of raw pv vs firing rate\n",
    "noLabelAreasPV = ['SSp-ll','SSp-ul','SSp-n','SSp-m','SSp-tr','VISli','VISpl','VISrl','RSPd','AUDv','SSs','AUDd','RSPv','VISC']\n",
    "plotFRvsrawPVnotebook(model, rawPV_df, True, True, noLabelAreasPV, 8, (5,3), 12, True, 'makeFiguresThal/FRvsrawPVnotebook_thal.svg')"
   ]
  },
  {
   "cell_type": "code",
   "execution_count": null,
   "id": "e5a12694",
   "metadata": {},
   "outputs": [],
   "source": []
  },
  {
   "cell_type": "code",
   "execution_count": null,
   "id": "be2c4120",
   "metadata": {},
   "outputs": [],
   "source": [
    "PVHierDf = generatePVHierDf(model, hierarchy_df, rawPV_df)\n",
    "plotFRvsHiernotebook(model, PVHierDf, True, True, noLabelAreas, 8, (5,3), 12, True, 'makeFiguresThal/FRvsHiernotebook_thal.svg')"
   ]
  },
  {
   "cell_type": "code",
   "execution_count": null,
   "id": "massive-theorem",
   "metadata": {
    "ExecuteTime": {
     "end_time": "2022-01-20T20:01:44.177862Z",
     "start_time": "2022-01-20T20:01:15.212633Z"
    }
   },
   "outputs": [],
   "source": []
  },
  {
   "cell_type": "code",
   "execution_count": null,
   "id": "37e9ea4a",
   "metadata": {},
   "outputs": [],
   "source": [
    "# compare Thalamic model with cortex model\n",
    "with open('results/model_V1.pkl', 'rb') as f:\n",
    "    model_cortex = pickle.load(f)\n",
    "# PVHierDf_cortex = generatePVHierDf(model_cortex, hierarchy_df)\n",
    "# plotFRvsHiernotebook(model_cortex, PVHierDf_cortex, True, True, noLabelAreas, 8, (5,3), 12, False, 'makeFiguresThal/FRvsHiernotebook_cortex.svg')\n"
   ]
  },
  {
   "cell_type": "code",
   "execution_count": null,
   "id": "8331434b",
   "metadata": {},
   "outputs": [],
   "source": [
    "def plotCortexVSThal(model1, model2, annotation_adjust, showLabel, noLabelAreas, dotSize, figureSize, fontSize, saveFig, fileName):\n",
    "    p1 = model1.persistentact_df\n",
    "    p2 = model2.persistentact_df\n",
    "\n",
    "    div = model1.parameters['div']\n",
    "    div_name_list = model1.parameters['div_name_list']\n",
    "    div_color_list = model1.parameters['div_color_list']\n",
    "\n",
    "    fig = plt.figure(figsize=figureSize, dpi=300, facecolor='w', edgecolor='k')\n",
    "    plt.rcParams.update({'font.size': fontSize})\n",
    "    # plot FR vs hierarchy\n",
    "    plt.scatter(p1['persistentact'], p2['persistentact'],\n",
    "                s=dotSize)\n",
    "    ax = plt.gca()\n",
    "    # plt.ylim(-6.5,65) # leave enough space for annotation.\n",
    "    # add annotation text\n",
    "    if showLabel:\n",
    "        texts = []\n",
    "        xPos = []\n",
    "        yPos = []\n",
    "        for i in range(model1.n_areas):\n",
    "            acr = p1['Acronym'][i]\n",
    "            if acr in model1.area_list:\n",
    "                for div_name, div_color in zip(div_name_list, div_color_list):\n",
    "                    if acr in div[div_name] and acr not in noLabelAreas:\n",
    "                        xPos += p1['persistentact'][i]\n",
    "                        yPos += p2['persistentact'][i]\n",
    "                        texts += [ax.text(p1['persistentact'][i],\n",
    "                                          p2['persistentact'][i], acr,\n",
    "                                          color=div_color, fontsize=fontSize*0.4)]\n",
    "\n",
    "        # # use adjust library to adjust the position of annotations.\n",
    "        if annotation_adjust:\n",
    "            adjust_text(texts, xPos, yPos,\n",
    "                        ax=ax, precision=0.001,\n",
    "                        arrowprops=dict(arrowstyle='-', color='gray', alpha=.8))\n",
    "\n",
    "    ax.spines['top'].set_visible(False)\n",
    "    ax.spines['right'].set_visible(False)\n",
    "    plt.xlabel('Cortical model firing rate (Hz)')\n",
    "    plt.ylabel('Thalamic model firing rate (Hz)')\n",
    "    \n",
    "    a1 = p1['persistentact']\n",
    "    a2 = p2['persistentact']\n",
    "    thres = 5\n",
    "    p1PAidx = list(a1[a1 > thres].index)\n",
    "    p2PAidx = list(a2[a2 > thres].index)\n",
    "    commonPAidx = [x for x in p1PAidx if x in p2PAidx]\n",
    "    p1PA = [a1[k] for k in commonPAidx]\n",
    "    p2PA = [a2[k] for k in commonPAidx]\n",
    "\n",
    "    corr, pvalue = sp.stats.pearsonr(p1PA,\n",
    "                                     p2PA)\n",
    "    plt.title('r=' + str(round(corr, 2)) + ', p=' + f\"{pvalue:.2E}\")\n",
    "    print(f\"{pvalue:.2E}\")\n",
    "\n",
    "    # save figure\n",
    "    if saveFig:\n",
    "        plt.savefig('figure/' + fileName, dpi=300, bbox_inches='tight',transparent=True)\n",
    "    # plt.savefig('figure/neurondensity_grad.png',dpi=80,bbox_inches='tight')"
   ]
  },
  {
   "cell_type": "code",
   "execution_count": null,
   "id": "f91ea9d5",
   "metadata": {},
   "outputs": [],
   "source": [
    "noLabelAreasCompare = ['SSp-ll','SSp-ul','SSp-n','SSp-m', 'SSp-un', 'AUDv', 'SSp-tr', 'VISpl', 'VISrl', 'VISli', 'RSPv',\n",
    "'RSPagl', 'RSPd', 'GU','PERI','ECT', 'VISal', 'VISC', 'ORBl','AId','VISpm','VISpor','VISp','AUDp','SSp-bfd','SSs',\n",
    "'AUDd','AIp','VISl','MOp']"
   ]
  },
  {
   "cell_type": "code",
   "execution_count": null,
   "id": "3e8dad76",
   "metadata": {},
   "outputs": [],
   "source": [
    "plotCortexVSThal(model_cortex, model, True, True, noLabelAreasCompare, 8, (5,3), 12, True, 'makeFiguresThal/cortexModelFRvsThalModelFR.svg')\n",
    "    # model1, model2, annotation_adjust, showLabel, noLabelAreas, dotSize, figureSize, fontSize, saveFig, fileName):"
   ]
  },
  {
   "cell_type": "code",
   "execution_count": null,
   "id": "conscious-collectible",
   "metadata": {
    "ExecuteTime": {
     "end_time": "2022-01-20T19:38:44.715236Z",
     "start_time": "2022-01-20T19:38:44.707193Z"
    }
   },
   "outputs": [],
   "source": [
    "def plotThalFRnotebook(model, annotation_adjust, showLabel, dotSize, figureSize, fontSize, saveFig, fileName):\n",
    "\n",
    "    persistentact_df = model.th_persistentact_df\n",
    "    persistentact_df_sort = persistentact_df.sort_values(by='th_persistentact').reset_index(drop=True)\n",
    "\n",
    "    fig = plt.figure(figsize=figureSize, dpi=300, facecolor='w', edgecolor='k')\n",
    "    plt.rcParams.update({'font.size': fontSize})\n",
    "    # plot FR of thal\n",
    "\n",
    "    plt.scatter(np.arange(len(persistentact_df_sort)), persistentact_df_sort['th_persistentact'],\n",
    "                s=dotSize)\n",
    "    ax = plt.gca()\n",
    "    # plt.ylim(-6.5,65) # leave enough space for annotation.\n",
    "    # add annotation text\n",
    "    if showLabel:\n",
    "        texts = []\n",
    "        for i in range(len(persistentact_df_sort)):\n",
    "            acr = persistentact_df_sort['Acronym'][i]\n",
    "            if acr in model.thal_areas_list:\n",
    "                texts += [ax.text(np.arange(len(persistentact_df_sort))[i],\n",
    "                                persistentact_df_sort['th_persistentact'][i], acr,\n",
    "                                fontsize=fontSize*0.4)]\n",
    "\n",
    "        # # use adjust library to adjust the position of annotations.\n",
    "        if annotation_adjust:\n",
    "            adjust_text(texts, np.arange(len(persistentact_df_sort)), persistentact_df_sort['th_persistentact'],\n",
    "                        ax=ax, precision=0.001,\n",
    "                        arrowprops=dict(arrowstyle='-', color='gray', alpha=.8))\n",
    "    ax.spines['top'].set_visible(False)\n",
    "    ax.spines['right'].set_visible(False)\n",
    "\n",
    "    ax.set_xticks([])\n",
    "    \n",
    "    plt.xlabel('Thalamic areas')\n",
    "    plt.ylabel('Rate (Hz)')\n",
    "    # plt.ylim([-1,8])\n",
    "\n",
    "#     corr, pvalue = sp.stats.pearsonr(persistentact_df_sort['PVdensity'],\n",
    "#                                      persistentact_df_sort['persistentact'])\n",
    "#     plt.title('r=' + str(round(corr, 2)) + ', p=' + f\"{pvalue:.2E}\")\n",
    "#     print(f\"{pvalue:.2E}\")\n",
    "\n",
    "    # save figure\n",
    "    if saveFig:\n",
    "        plt.savefig('figure/' + fileName, dpi=300, bbox_inches='tight',transparent=True)\n",
    "    # plt.savefig('figure/neurondensity_grad.png',dpi=80,bbox_inches='tight')def "
   ]
  },
  {
   "cell_type": "code",
   "execution_count": null,
   "id": "signal-sight",
   "metadata": {
    "ExecuteTime": {
     "end_time": "2022-05-11T08:05:52.982371Z",
     "start_time": "2022-05-11T08:05:52.767183Z"
    }
   },
   "outputs": [],
   "source": []
  },
  {
   "cell_type": "code",
   "execution_count": null,
   "id": "subjective-restoration",
   "metadata": {
    "ExecuteTime": {
     "end_time": "2022-01-20T19:39:19.901020Z",
     "start_time": "2022-01-20T19:38:44.717709Z"
    },
    "scrolled": false
   },
   "outputs": [],
   "source": [
    "plotThalFRnotebook(model, True, True, 8, (5,3), 12, True, 'makeFiguresThal/thalamicFR_thal.svg')"
   ]
  },
  {
   "cell_type": "code",
   "execution_count": null,
   "id": "1cd49ce9",
   "metadata": {},
   "outputs": [],
   "source": [
    "# # get Thalamus hierarchy.\n",
    "# THhierfilename = 'mouse_harrishier_th_extracted_published_CC_TC_CT.csv'\n",
    "\n",
    "# def loadTHhierarchy(filepath, THhierfilename, areas):\n",
    "#     with open(filepath + THhierfilename, 'rb') as f:\n",
    "#         THhier_df = pd.read_csv(f, sep=',', names=['area', 'THhier'], header=0)\n",
    "#     return THhier_df\n",
    "\n",
    "# thHierdf = loadTHhierarchy('lib/', THhierfilename, thal_list)\n",
    "# thHierdf.dropna(inplace=True)"
   ]
  },
  {
   "cell_type": "code",
   "execution_count": null,
   "id": "d4d56c5f",
   "metadata": {},
   "outputs": [],
   "source": []
  },
  {
   "cell_type": "code",
   "execution_count": null,
   "id": "58544daf",
   "metadata": {},
   "outputs": [],
   "source": [
    "# normalize the thalamic hierarchy\n",
    "a = thal_hierarchy\n",
    "thal_hierarchy_norm = (a - min(a)) / (max(a) - min(a))\n"
   ]
  },
  {
   "cell_type": "code",
   "execution_count": null,
   "id": "0f7c5683",
   "metadata": {},
   "outputs": [],
   "source": [
    "# generate thalamus hierarchy persistent activity DF.\n",
    "def generateTHHierDf(model, thal_list, thal_hierarchy):\n",
    "    df = model.th_persistentact_df\n",
    "    c1, c2, c3 = [], [], []\n",
    "    for index, row in df.iterrows():\n",
    "        if row['Acronym'] in thal_list:\n",
    "            c1.append(row['Acronym'])\n",
    "            c2.append(thal_hierarchy[index])\n",
    "            c3.append(row['th_persistentact'])\n",
    "    df = pd.DataFrame()\n",
    "    df['Acronym'] = c1\n",
    "    df['hierarchy'] = c2\n",
    "    df['persistentact'] = c3\n",
    "    return df\n",
    "thFRHierDf = generateTHHierDf(model, thal_list, thal_hierarchy_norm)"
   ]
  },
  {
   "cell_type": "code",
   "execution_count": null,
   "id": "35284183",
   "metadata": {},
   "outputs": [],
   "source": [
    "thFRHierDf"
   ]
  },
  {
   "cell_type": "code",
   "execution_count": null,
   "id": "5a8e7a33",
   "metadata": {},
   "outputs": [],
   "source": [
    "# # plot the thalamic firing rate vs the thalamic hierarchy. \n",
    "def plotFRvsHierTHALnotebook(thFRHierDf, annotation_adjust, showLabel, noLabelAreas, dotSize, figureSize, fontSize, saveFig, fileName):\n",
    "\n",
    "    fig = plt.figure(figsize=figureSize, dpi=300, facecolor='w', edgecolor='k')\n",
    "    plt.rcParams.update({'font.size': fontSize})\n",
    "    # plot FR vs hierarchy\n",
    "    plt.scatter(thFRHierDf['hierarchy'], thFRHierDf['persistentact'],\n",
    "               s=dotSize)\n",
    "    ax = plt.gca()\n",
    "    # plt.ylim(-6.5,65) # leave enough space for annotation.\n",
    "    # add annotation text\n",
    "    if showLabel:\n",
    "        texts = []\n",
    "        xPos = []\n",
    "        yPos = []\n",
    "        for i in range(len(thFRHierDf)):\n",
    "            acr = thFRHierDf['Acronym'][i]\n",
    "            if acr not in noLabelAreas:\n",
    "                xPos += thFRHierDf['hierarchy'][i]\n",
    "                yPos += thFRHierDf['persistentact'][i]\n",
    "                texts += [ax.text(thFRHierDf['hierarchy'][i],\n",
    "                                    thFRHierDf['persistentact'][i], acr,\n",
    "                                    color='#162580', fontsize=fontSize*0.4)]\n",
    "                        \n",
    "        # # use adjust library to adjust the position of annotations.\n",
    "        if annotation_adjust:\n",
    "            adjust_text(texts, xPos, yPos,\n",
    "                        ax=ax, precision=0.001,\n",
    "                        arrowprops=dict(arrowstyle='-', color='gray', alpha=.8))\n",
    "\n",
    "    ax.spines['top'].set_visible(False)\n",
    "    ax.spines['right'].set_visible(False)\n",
    "    # plt.setp(ax.spines.values(), linewidth=3)\n",
    "    # ax.xaxis.set_tick_params(width=7)\n",
    "    # ax.yaxis.set_tick_params(width=7)\n",
    "\n",
    "    plt.xlabel('Thalamic hierarchy')\n",
    "    plt.ylabel('Rate (Hz)')\n",
    "    # plt.ylim([-1,8])\n",
    "\n",
    "    corr, pvalue = sp.stats.pearsonr(thFRHierDf['hierarchy'],\n",
    "                                     thFRHierDf['persistentact'])\n",
    "    plt.title('r=' + str(round(corr, 2)) + ', p=' + f\"{pvalue:.2E}\")\n",
    "    print(f\"{pvalue:.2E}\")\n",
    "\n",
    "    # save figure\n",
    "    if saveFig:\n",
    "        plt.savefig('figure/' + fileName, dpi=300, bbox_inches='tight',transparent=True)"
   ]
  },
  {
   "cell_type": "code",
   "execution_count": null,
   "id": "ccba5887",
   "metadata": {},
   "outputs": [],
   "source": [
    "plotFRvsHierTHALnotebook(thFRHierDf, True, True, [], 8, (5,3), 12, True, 'makeFiguresThal/thFRvsHier.svg')"
   ]
  },
  {
   "cell_type": "code",
   "execution_count": null,
   "id": "affiliated-contract",
   "metadata": {},
   "outputs": [],
   "source": []
  },
  {
   "cell_type": "code",
   "execution_count": null,
   "id": "be4aa5ba",
   "metadata": {},
   "outputs": [],
   "source": [
    "# # load no Thalamus model\n",
    "\n",
    "with open('results/model_V1_thal_noThal.pkl', 'rb') as f:\n",
    "    modelNoThal = pickle.load(f)"
   ]
  },
  {
   "cell_type": "code",
   "execution_count": null,
   "id": "c7ee2caa",
   "metadata": {},
   "outputs": [],
   "source": [
    "plotDynamics(modelNoThal, plotAreaList, 'FR', True, 2, (5,3), 12, True, 'makeFiguresThal/dynamicsPlot_thal_NOThal.svg')\n",
    "PVHierDfNoThal = generatePVHierDf(modelNoThal, hierarchy_df, rawPV_df)\n",
    "plotFRvsHiernotebook(modelNoThal, PVHierDfNoThal, True, True, noLabelAreas, 8, (5,3), 12, True, 'makeFiguresThal/FRvsHiernotebook_thal_NOThal.svg')"
   ]
  },
  {
   "cell_type": "code",
   "execution_count": null,
   "id": "dc34dd6a",
   "metadata": {},
   "outputs": [],
   "source": [
    "# # load Thalamus inhibition model \n",
    "with open('results/model_V1_thal_inhibitThal.pkl', 'rb') as f: \n",
    "    modelInhibitThal = pickle.load(f) \n",
    "    \n",
    "plotDynamics(modelInhibitThal, plotAreaList, 'FR', True, 2, (5,3), 12, True, 'makeFiguresThal/dynamicsPlot_thal_InhibitThal.svg') \n",
    "PVHierDfInhibitThal = generatePVHierDf(modelInhibitThal, hierarchy_df, rawPV_df) \n",
    "plotFRvsHiernotebook(modelInhibitThal, PVHierDfInhibitThal, True, True, noLabelAreas, 8, (5,3), 12, True, 'makeFiguresThal/FRvsHiernotebook_thal_InhibitThal.svg') "
   ]
  },
  {
   "cell_type": "code",
   "execution_count": null,
   "id": "aa75e7c9",
   "metadata": {},
   "outputs": [],
   "source": [
    "def plotDynamicsTwo(modelList, plotAreaList, colorList, labelList, Yaxis, sameYaxisLimit, lineWidth, figureSize, fontSize, saveFig, fileName):\n",
    "    \n",
    "    model1, model2 = modelList\n",
    "\n",
    "    if len(modelList) != len(colorList):\n",
    "        raise ValueError('modelList and colorList must have the same length.')\n",
    "        return\n",
    "\n",
    "    # generate figures for specific areas. # sixplots\n",
    "    if model1.parameters['stim_on'] != model2.parameters['stim_on']:\n",
    "        raise ValueError('stim_on is not the same in two models.')\n",
    "        return\n",
    "    start = model1.parameters['stim_on']\n",
    "    plot_start_time = 0.5\n",
    "    if model1.trial_length != model2.trial_length:\n",
    "        raise ValueError('trial_length is not the same in two models.')\n",
    "        return\n",
    "    plot_end_time = model1.trial_length/brian2.second -0.5\n",
    "#     plot_end_time = start/brian2.second + 4\n",
    "    if model1.dt != model2.dt:\n",
    "        raise ValueError('dt is not the same in two models.')\n",
    "        return\n",
    "    dt = model1.dt\n",
    "    plt.figure(figsize=figureSize)\n",
    "    \n",
    "    k = 1\n",
    "    # Plot the rates for E1&E2\n",
    "    plt.rcParams.update({'font.size':fontSize})\n",
    "    \n",
    "    popNo = 0\n",
    "    if Yaxis == 'FR':\n",
    "        Ylist = [x.R for x in modelList]\n",
    "        yLabel = 'Rate (Hz)'\n",
    "        popNo = 0\n",
    "    elif Yaxis == 'localCurrent':\n",
    "        Ylist = [x.I_local_NMDA for x in modelList]\n",
    "        yLabel = 'Local NMDA \\n current (A)'\n",
    "        popNo = 0\n",
    "    elif Yaxis == 'LRECurrent':\n",
    "        Ylist = [x.I_LR_NMDA for x in modelList]\n",
    "        yLabel = 'Long range \\n current to E (A)'\n",
    "        popNo = 0\n",
    "    elif Yaxis == 'LRICurrent':\n",
    "        Ylist = [x.I_LR_NMDA for x in modelList]\n",
    "        yLabel = 'Long range \\n current to I (A)'\n",
    "        popNo = 2\n",
    "    elif Yaxis == 'synaptic':\n",
    "        Ylist = [x.S_NMDA for x in modelList]\n",
    "        yLabel = 'synaptic variable \\n  NMDA'\n",
    "        popNo = 0\n",
    "    else:\n",
    "        raise ValueError('Yaxis value error.')\n",
    "        return\n",
    "    #get Y max\n",
    "    \n",
    "    Y1, Y2 = Ylist[0], Ylist[1]\n",
    "\n",
    "    Ymax = 0\n",
    "    for i in plotAreaList:\n",
    "        for y in Ylist:\n",
    "            Ymax = max(Ymax, 1.2 * np.max(y[:,i-1,popNo]))\n",
    "\n",
    "    \n",
    "    X = np.arange(plot_start_time*brian2.second - start, plot_end_time*brian2.second - start, dt)\n",
    "    for i in plotAreaList:\n",
    "        plt.subplot(2,3,k)\n",
    "        ax = plt.gca()\n",
    "        # plot the firing of first pop\n",
    "        for j in range(len(Ylist)):\n",
    "            y = Ylist[j]\n",
    "            ax.plot(X, y[np.arange(int(plot_start_time/dt), int(plot_end_time/dt), 1), i-1, popNo],\n",
    "                     color=colorList[j], linewidth=lineWidth, label=labelList[j]) # '#3C5488FF'\n",
    "        \n",
    "        # plot the firing of second pop # TODO need to change the code; does not work for distractionInput.\n",
    "        if model1.parameters['distractionInput'] or model2.parameters['distractionInput']:\n",
    "            for y in Ylist:\n",
    "                ax.plot(X, y[np.arange(int(plot_start_time/dt), int(plot_end_time/dt), 1), i-1, 1],\n",
    "                     color='orange', linewidth=lineWidth)    \n",
    "\n",
    "        if sameYaxisLimit:\n",
    "            plt.ylim((0, Ymax))\n",
    "            \n",
    "        # Plot the stimulation duration bar\n",
    "        if plot_end_time<25:\n",
    "            Ypos = Ymax * 1.1 / 1.2\n",
    "            ax.plot([model2.stim_on - start, model2.stim_off - start], [Ypos, Ypos],\n",
    "                     color='black', linewidth=lineWidth)\n",
    "            if model1.parameters['distractionInput']:\n",
    "                ax.plot([model1.parameters['distract_on'] - start, model1.parameters['distract_off'] - start], [Ypos, Ypos],\n",
    "                     color='green', linewidth=lineWidth)\n",
    "            if model2.parameters['distractionInput']:\n",
    "                ax.plot([model2.parameters['distract_on'] - start, model2.parameters['distract_off'] - start], [Ypos, Ypos],\n",
    "                     color='green', linewidth=lineWidth)\n",
    "            \n",
    "            if model1.parameters['inhibitoryInput']:\n",
    "                ax.plot([model1.parameters['inh_stim_on'] - start, model1.parameters['inh_stim_off'] - start], [Ypos, Ypos],\n",
    "                     color='#D3023E', linewidth=lineWidth)\n",
    "            if model2.parameters['inhibitoryInput']:\n",
    "                ax.plot([model2.parameters['inh_stim_on'] - start, model2.parameters['inh_stim_off'] - start], [Ypos, Ypos],\n",
    "                     color='#D3023E', linewidth=lineWidth)\n",
    "        \n",
    "        plt.title(model1.area_list[i-1])\n",
    "        # hide the frames\n",
    "        ax.spines['top'].set_visible(False)\n",
    "        ax.spines['right'].set_visible(False)\n",
    "\n",
    "        plt.setp(ax.spines.values(), linewidth=lineWidth)\n",
    "\n",
    "        if k >= 4:\n",
    "            plt.xlabel('Time (s)')\n",
    "        if k%3 == 1:\n",
    "            plt.ylabel(yLabel)\n",
    "            \n",
    "        # add shade to inhibition.\n",
    "\n",
    "    #     if inh_multiarea != None:\n",
    "    #         for j in np.arange(len_inhmulti):\n",
    "    #             if area_list[i-1] == inh_multiarea[j]:\n",
    "    #                 plt.axvspan(inhibition_on,inhibition_off,facecolor='b',alpha=0.1)  \n",
    "\n",
    "        k+= 1\n",
    "\n",
    "    # add legend\n",
    "    handles, labels = ax.get_legend_handles_labels()\n",
    "    plt.legend(handles, labels, loc='upper center')\n",
    "    # plt.legend(handles, labels)\n",
    "\n",
    "    plt.tight_layout()\n",
    "    if saveFig:\n",
    "        plt.savefig('figure/' + fileName, dpi=300, bbox_inches='tight', transparent=True)"
   ]
  },
  {
   "cell_type": "code",
   "execution_count": null,
   "id": "1d552c5f",
   "metadata": {},
   "outputs": [],
   "source": [
    "# compare thalamic model, no thalamic model and thalamic model with thalamic inhibition. \n",
    "plotDynamicsTwo([model, modelNoThal], plotAreaList, ['#3C5488FF','#DEBC74'], ['Control','Thalamic lesion'], 'FR', True, 2, (5,3), 12, True, 'makeFiguresThal/dynamicsPlot_compareLesion.svg')"
   ]
  },
  {
   "cell_type": "code",
   "execution_count": null,
   "id": "f288a542",
   "metadata": {},
   "outputs": [],
   "source": [
    "# compare thalamic model, no thalamic model and thalamic model with thalamic inhibition. \n",
    "plotDynamicsTwo([modelInhibitThal, model], plotAreaList, ['#D3023E', '#3C5488FF'], ['Thalamic inhibition', 'Control'], 'FR', True, 2, (5,3), 12, True, 'makeFiguresThal/dynamicsPlot_compareInhibtion.svg')"
   ]
  },
  {
   "cell_type": "code",
   "execution_count": null,
   "id": "db5ea86d",
   "metadata": {},
   "outputs": [],
   "source": []
  }
 ],
 "metadata": {
  "kernelspec": {
   "display_name": "Python 3.6.7 ('base')",
   "language": "python",
   "name": "python3"
  },
  "language_info": {
   "codemirror_mode": {
    "name": "ipython",
    "version": 3
   },
   "file_extension": ".py",
   "mimetype": "text/x-python",
   "name": "python",
   "nbconvert_exporter": "python",
   "pygments_lexer": "ipython3",
   "version": "3.6.7"
  },
  "vscode": {
   "interpreter": {
    "hash": "aceb219ff324d9a10c53094f909dc059ecbb47474a96ca91c9b06a1e6187b787"
   }
  }
 },
 "nbformat": 4,
 "nbformat_minor": 5
}
