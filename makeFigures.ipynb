{
 "cells": [
  {
   "cell_type": "code",
   "execution_count": null,
   "id": "19534471",
   "metadata": {},
   "outputs": [],
   "source": [
    "import sys\n",
    "import numpy as np\n",
    "import pandas as pd\n",
    "import matplotlib\n",
    "import scipy\n",
    "import sklearn\n",
    "import networkx\n",
    "import seaborn\n",
    "import brian2\n",
    "import allensdk\n",
    "import mcmodels\n",
    "\n",
    "\n",
    "library_versions = {\n",
    "    'Python': sys.version,\n",
    "    'NumPy': np.__version__,\n",
    "    'Pandas': pd.__version__,\n",
    "    'Matplotlib': matplotlib.__version__,\n",
    "    'SciPy': scipy.__version__,\n",
    "    'Scikit-learn': sklearn.__version__,\n",
    "    'Networkx': networkx.__version__,\n",
    "    'Seaborn': seaborn.__version__,\n",
    "    'Brian2': brian2.__version__,\n",
    "    'AllenSDK': allensdk.__version__,\n",
    "    'Mcmodels': mcmodels.__version__\n",
    "}\n",
    "library_versions"
   ]
  },
  {
   "cell_type": "code",
   "execution_count": null,
   "id": "micro-needle",
   "metadata": {
    "ExecuteTime": {
     "end_time": "2022-03-02T06:30:59.933767Z",
     "start_time": "2022-03-02T06:30:59.931903Z"
    }
   },
   "outputs": [],
   "source": [
    "# make figures"
   ]
  },
  {
   "cell_type": "code",
   "execution_count": null,
   "id": "excess-mineral",
   "metadata": {
    "ExecuteTime": {
     "end_time": "2022-05-11T08:05:52.764284Z",
     "start_time": "2022-05-11T08:05:49.545755Z"
    }
   },
   "outputs": [],
   "source": [
    "import numpy as np\n",
    "import scipy as sp\n",
    "from scipy import stats\n",
    "import matplotlib as mpl\n",
    "import matplotlib.pyplot as plt\n",
    "import pandas as pd\n",
    "import brian2\n",
    "import pickle\n",
    "# from matplotlib import colors\n",
    "\n",
    "from adjustText import adjust_text\n",
    "\n",
    "mpl.rcParams['pdf.fonttype'] = 42\n",
    "mpl.rcParams['ps.fonttype'] = 42\n",
    "mpl.rcParams['svg.fonttype'] = 'none'"
   ]
  },
  {
   "cell_type": "code",
   "execution_count": null,
   "id": "signal-sight",
   "metadata": {
    "ExecuteTime": {
     "end_time": "2022-05-11T08:05:52.982371Z",
     "start_time": "2022-05-11T08:05:52.767183Z"
    }
   },
   "outputs": [],
   "source": [
    "# load arealist\n",
    "area_list = list(np.loadtxt('results/area_list.csv', delimiter=',', dtype='str'))\n",
    "\n",
    "# load connectivity \n",
    "conn_cxcx = np.loadtxt('results/conn_cxcx.csv', delimiter=',')\n",
    "\n",
    "# load interneuron density\n",
    "normPVgrad_df = pd.read_csv('results/dfPV.csv', header = 0, index_col=0)\n",
    "\n",
    "rawPV_df = pd.read_csv('results/dfPVraw.csv', header = 0, index_col=0)\n",
    "\n",
    "# load hierarchy\n",
    "hierarchy_df = pd.read_csv('results/dfHier.csv', header=0, index_col=0)\n",
    "\n",
    "# load model\n",
    "with open('results/model_V1.pkl', 'rb') as f:\n",
    "    model = pickle.load(f)\n",
    "\n",
    "with open('results/model_V1_PVconstant.pkl', 'rb') as f:\n",
    "    modelAveragePV = pickle.load(f)\n",
    "\n",
    "with open('results/model_V1_noCIB.pkl', 'rb') as f:\n",
    "    modelAveragePref = pickle.load(f)\n",
    "\n",
    "\n",
    "with open('results/model_V1_Alt.pkl', 'rb') as f:\n",
    "    modelAlternative = pickle.load(f)\n",
    "\n",
    "with open('results/model_V1_Alt_PVconstant.pkl', 'rb') as f:\n",
    "    modelAlternativeAveragePV = pickle.load(f)\n",
    "\n",
    "with open('results/model_V1_Alt_noCIB.pkl', 'rb') as f:\n",
    "    modelAlternativeAveragePref = pickle.load(f)\n",
    "\n",
    "\n",
    "with open('results/model_V1_allcore.pkl', 'rb') as f:\n",
    "    modelAllcore = pickle.load(f)\n"
   ]
  },
  {
   "cell_type": "code",
   "execution_count": null,
   "id": "equal-tennessee",
   "metadata": {
    "ExecuteTime": {
     "end_time": "2022-05-11T09:50:11.515110Z",
     "start_time": "2022-05-11T09:50:11.499325Z"
    },
    "scrolled": true
   },
   "outputs": [],
   "source": [
    "def plotDynamics(model, plotAreaList, Yaxis, sameYaxisLimit, lineWidth, figureSize, fontSize, saveFig, fileName):\n",
    "    \n",
    "    # generate figures for specific areas. # sixplots\n",
    "    start = model.parameters['stim_on']\n",
    "    plot_start_time = 0.5\n",
    "    plot_end_time = model.trial_length/brian2.second -0.5\n",
    "#     plot_end_time = start/brian2.second + 4\n",
    "    dt = model.dt\n",
    "    plt.figure(figsize=figureSize)\n",
    "    \n",
    "    k = 1\n",
    "    # Plot the rates for E1&E2\n",
    "    plt.rcParams.update({'font.size':fontSize})\n",
    "    \n",
    "    popNo = 0\n",
    "    if Yaxis == 'FR':\n",
    "        Y = model.R\n",
    "        yLabel = 'Rate (Hz)'\n",
    "        popNo = 0\n",
    "    elif Yaxis == 'localCurrent':\n",
    "        Y = model.I_local_NMDA * 10**9\n",
    "        yLabel = 'Local NMDA \\n current (nA)'\n",
    "        popNo = 0\n",
    "    elif Yaxis == 'LRECurrent':\n",
    "        Y = model.I_LR_NMDA * 10**9\n",
    "        yLabel = 'Long range \\n current to E (nA)'\n",
    "        popNo = 0\n",
    "    elif Yaxis == 'LRICurrent':\n",
    "        Y = model.I_LR_NMDA * 10**9\n",
    "        yLabel = 'Long range \\n current to I (nA)'\n",
    "        popNo = 2\n",
    "    elif Yaxis == 'synaptic':\n",
    "        Y = model.S_NMDA\n",
    "        yLabel = 'synaptic variable \\n  NMDA'\n",
    "        popNo = 0\n",
    "\n",
    "    else:\n",
    "        raise ValueError('Yaxis value error.')\n",
    "        return\n",
    "    #get Y max\n",
    "    \n",
    "    Ymax = 0\n",
    "    for i in plotAreaList:\n",
    "        Ymax = max(Ymax, 1.2 * np.max(Y[:,i-1,popNo]))\n",
    "    \n",
    "    X = np.arange(plot_start_time*brian2.second - start, plot_end_time*brian2.second - start, dt)\n",
    "    for i in plotAreaList:\n",
    "        plt.subplot(2,3,k)\n",
    "        ax = plt.gca()\n",
    "        # plot the firing of first pop\n",
    "        ax.plot(X, Y[np.arange(int(plot_start_time/dt), int(plot_end_time/dt), 1), i-1, popNo],\n",
    "                 color='#3C5488FF', linewidth=lineWidth)\n",
    "\n",
    "        # plot the firing of second pop\n",
    "        if model.parameters['distractionInput']:\n",
    "            ax.plot(X, Y[np.arange(int(plot_start_time/dt), int(plot_end_time/dt), 1), i-1, 1],\n",
    "                 color='orange', linewidth=lineWidth)\n",
    "\n",
    "        if sameYaxisLimit:\n",
    "            plt.ylim((0, Ymax))\n",
    "            if Yaxis == 'synaptic':\n",
    "                plt.ylim((-0.1, 1.1))\n",
    "\n",
    "        # Plot the stimulation duration bar\n",
    "        if plot_end_time<25:\n",
    "            if sameYaxisLimit:\n",
    "                Ypos = Ymax * 1.1 / 1.2\n",
    "            else:\n",
    "                Ypos = 1.1 * np.max(Y[:,i-1,popNo])\n",
    "            ax.plot([model.stim_on - start, model.stim_off - start], [Ypos, Ypos],\n",
    "                     color='black', linewidth=lineWidth)\n",
    "            if model.parameters['distractionInput']:\n",
    "                ax.plot([model.parameters['distract_on'] - start, model.parameters['distract_off'] - start], [Ypos, Ypos],\n",
    "                     color='green', linewidth=lineWidth)\n",
    "                \n",
    "#             if model.parameters['thcxmodel']:\n",
    "#                 ax.plot([model.parameters['inh_stim_on'] - start, model.parameters['inh_stim_off'] - start], [Ypos, Ypos],\n",
    "#                      color='blue', linewidth=lineWidth)\n",
    "        \n",
    "        plt.title(model.area_list[i-1])\n",
    "        # hide the frames\n",
    "        ax.spines['top'].set_visible(False)\n",
    "        ax.spines['right'].set_visible(False)\n",
    "\n",
    "        plt.setp(ax.spines.values(), linewidth=lineWidth)\n",
    "\n",
    "        if k >= 4:\n",
    "            plt.xlabel('Time (s)')\n",
    "        if k%3 == 1:\n",
    "            plt.ylabel(yLabel)\n",
    "            \n",
    "        # add shade to inhibition.\n",
    "\n",
    "    #     if inh_multiarea != None:\n",
    "    #         for j in np.arange(len_inhmulti):\n",
    "    #             if area_list[i-1] == inh_multiarea[j]:\n",
    "    #                 plt.axvspan(inhibition_on,inhibition_off,facecolor='b',alpha=0.1)  \n",
    "\n",
    "        k+= 1\n",
    "    \n",
    "    plt.tight_layout()\n",
    "    if saveFig:\n",
    "        plt.savefig('figure/' + fileName, dpi=300, bbox_inches='tight', transparent=True)"
   ]
  },
  {
   "cell_type": "code",
   "execution_count": null,
   "id": "125cd923",
   "metadata": {},
   "outputs": [],
   "source": [
    "def plotDynamicsTwo(modelList, plotAreaList, colorList, labelList, Yaxis, sameYaxisLimit, lineWidth, figureSize, fontSize, saveFig, fileName):\n",
    "    \n",
    "    model1, model2 = modelList\n",
    "\n",
    "    if len(modelList) != len(colorList):\n",
    "        raise ValueError('modelList and colorList must have the same length.')\n",
    "        return\n",
    "\n",
    "    # generate figures for specific areas. # sixplots\n",
    "    if model1.parameters['stim_on'] != model2.parameters['stim_on']:\n",
    "        raise ValueError('stim_on is not the same in two models.')\n",
    "        return\n",
    "    start = model1.parameters['stim_on']\n",
    "    plot_start_time = 0.5\n",
    "    if model1.trial_length != model2.trial_length:\n",
    "        raise ValueError('trial_length is not the same in two models.')\n",
    "        return\n",
    "    plot_end_time = model1.trial_length/brian2.second -0.5\n",
    "#     plot_end_time = start/brian2.second + 4\n",
    "    if model1.dt != model2.dt:\n",
    "        raise ValueError('dt is not the same in two models.')\n",
    "        return\n",
    "    dt = model1.dt\n",
    "    plt.figure(figsize=figureSize)\n",
    "    \n",
    "    k = 1\n",
    "    # Plot the rates for E1&E2\n",
    "    plt.rcParams.update({'font.size':fontSize})\n",
    "    \n",
    "    popNo = 0\n",
    "    if Yaxis == 'FR':\n",
    "        Ylist = [x.R for x in modelList]\n",
    "        yLabel = 'Rate (Hz)'\n",
    "        popNo = 0\n",
    "    elif Yaxis == 'localCurrent':\n",
    "        Ylist = [x.I_local_NMDA for x in modelList]\n",
    "        yLabel = 'Local NMDA \\n current'\n",
    "        popNo = 0\n",
    "    elif Yaxis == 'LRECurrent':\n",
    "        Ylist = [x.I_LR_NMDA for x in modelList]\n",
    "        yLabel = 'Long range \\n current to E'\n",
    "        popNo = 0\n",
    "    elif Yaxis == 'LRICurrent':\n",
    "        Ylist = [x.I_LR_NMDA for x in modelList]\n",
    "        yLabel = 'Long range \\n current to I'\n",
    "        popNo = 2\n",
    "    elif Yaxis == 'synaptic':\n",
    "        Ylist = [x.S_NMDA for x in modelList]\n",
    "        yLabel = 'synaptic variable \\n  NMDA'\n",
    "        popNo = 0\n",
    "    else:\n",
    "        raise ValueError('Yaxis value error.')\n",
    "        return\n",
    "    #get Y max\n",
    "    \n",
    "    Y1, Y2 = Ylist[0], Ylist[1]\n",
    "\n",
    "    Ymax = 0\n",
    "    for i in plotAreaList:\n",
    "        for y in Ylist:\n",
    "            Ymax = max(Ymax, 1.2 * np.max(y[:,i-1,popNo]))\n",
    "\n",
    "    \n",
    "    X = np.arange(plot_start_time*brian2.second - start, plot_end_time*brian2.second - start, dt)\n",
    "    for i in plotAreaList:\n",
    "        plt.subplot(2,3,k)\n",
    "        ax = plt.gca()\n",
    "        # plot the firing of first pop\n",
    "        for j in range(len(Ylist)):\n",
    "            y = Ylist[j]\n",
    "            ax.plot(X, y[np.arange(int(plot_start_time/dt), int(plot_end_time/dt), 1), i-1, popNo],\n",
    "                     color=colorList[j], linewidth=lineWidth, label=labelList[j]) # '#3C5488FF'\n",
    "        \n",
    "        # plot the firing of second pop # TODO need to change the code; does not work for distractionInput.\n",
    "        if model1.parameters['distractionInput'] or model2.parameters['distractionInput']:\n",
    "            for y in Ylist:\n",
    "                ax.plot(X, y[np.arange(int(plot_start_time/dt), int(plot_end_time/dt), 1), i-1, 1],\n",
    "                     color='orange', linewidth=lineWidth)    \n",
    "\n",
    "        if sameYaxisLimit:\n",
    "            plt.ylim((0, Ymax))\n",
    "            \n",
    "        # Plot the stimulation duration bar\n",
    "        if plot_end_time<25:\n",
    "            Ypos = Ymax * 1.1 / 1.2\n",
    "            ax.plot([model2.stim_on - start, model2.stim_off - start], [Ypos, Ypos],\n",
    "                     color='black', linewidth=lineWidth)\n",
    "            if model1.parameters['distractionInput']:\n",
    "                ax.plot([model1.parameters['distract_on'] - start, model1.parameters['distract_off'] - start], [Ypos, Ypos],\n",
    "                     color='green', linewidth=lineWidth)\n",
    "            if model2.parameters['distractionInput']:\n",
    "                ax.plot([model2.parameters['distract_on'] - start, model2.parameters['distract_off'] - start], [Ypos, Ypos],\n",
    "                     color='green', linewidth=lineWidth)\n",
    "            \n",
    "            if model1.parameters['inhibitoryInput']:\n",
    "                ax.plot([model1.parameters['inh_stim_on'] - start, model1.parameters['inh_stim_off'] - start], [Ypos, Ypos],\n",
    "                     color='blue', linewidth=lineWidth)\n",
    "            if model2.parameters['inhibitoryInput']:\n",
    "                ax.plot([model2.parameters['inh_stim_on'] - start, model2.parameters['inh_stim_off'] - start], [Ypos, Ypos],\n",
    "                     color='blue', linewidth=lineWidth)\n",
    "        \n",
    "        plt.title(model1.area_list[i-1])\n",
    "        # hide the frames\n",
    "        ax.spines['top'].set_visible(False)\n",
    "        ax.spines['right'].set_visible(False)\n",
    "\n",
    "        plt.setp(ax.spines.values(), linewidth=lineWidth)\n",
    "\n",
    "        if k >= 4:\n",
    "            plt.xlabel('Time (s)')\n",
    "        if k%3 == 1:\n",
    "            plt.ylabel(yLabel)\n",
    "            \n",
    "        # add shade to inhibition.\n",
    "\n",
    "    #     if inh_multiarea != None:\n",
    "    #         for j in np.arange(len_inhmulti):\n",
    "    #             if area_list[i-1] == inh_multiarea[j]:\n",
    "    #                 plt.axvspan(inhibition_on,inhibition_off,facecolor='b',alpha=0.1)  \n",
    "\n",
    "        k+= 1\n",
    "\n",
    "    # add legend\n",
    "    handles, labels = ax.get_legend_handles_labels()\n",
    "    plt.legend(handles, labels, loc='upper center')\n",
    "\n",
    "    plt.tight_layout()\n",
    "    if saveFig:\n",
    "        plt.savefig('figure/' + fileName, dpi=300, bbox_inches='tight', transparent=True)"
   ]
  },
  {
   "cell_type": "code",
   "execution_count": null,
   "id": "owned-greeting",
   "metadata": {
    "ExecuteTime": {
     "end_time": "2022-05-11T09:50:11.878368Z",
     "start_time": "2022-05-11T09:50:11.874164Z"
    },
    "scrolled": true
   },
   "outputs": [],
   "source": [
    "ROIlist = [0,26,30,31,36, 38]\n",
    "[area_list[i] for i in ROIlist]"
   ]
  },
  {
   "cell_type": "code",
   "execution_count": null,
   "id": "perfect-hampshire",
   "metadata": {
    "ExecuteTime": {
     "end_time": "2022-05-11T09:50:12.853630Z",
     "start_time": "2022-05-11T09:50:12.192134Z"
    }
   },
   "outputs": [],
   "source": [
    "plotAreaList = [i+1 for i in ROIlist]  # VISp stimulus\n",
    "# plot firing rates for sample areas\n",
    "plotDynamics(model, plotAreaList, 'FR', True, 2, (5,3), 12, True, 'makeFigures/dynamicsPlot.svg')"
   ]
  },
  {
   "cell_type": "code",
   "execution_count": null,
   "id": "isolated-leisure",
   "metadata": {
    "ExecuteTime": {
     "end_time": "2022-05-11T09:50:13.563102Z",
     "start_time": "2022-05-11T09:50:12.855541Z"
    },
    "scrolled": false
   },
   "outputs": [],
   "source": [
    "# plot local NMDA current for sample areas\n",
    "plotDynamics(model, plotAreaList, 'localCurrent', True, 2, (7,4), 12, True, 'makeFigures/currentPlot.svg')"
   ]
  },
  {
   "cell_type": "code",
   "execution_count": null,
   "id": "serious-appointment",
   "metadata": {
    "ExecuteTime": {
     "end_time": "2022-05-11T09:50:14.242767Z",
     "start_time": "2022-05-11T09:50:13.565324Z"
    },
    "scrolled": false
   },
   "outputs": [],
   "source": [
    "# make plots of synaptic variables sNMDA\n",
    "plotDynamics(model, plotAreaList, 'synaptic', True, 2, (7,4), 12, True, 'makeFigures/sNMDAPlot.svg')"
   ]
  },
  {
   "cell_type": "code",
   "execution_count": null,
   "id": "marked-former",
   "metadata": {
    "ExecuteTime": {
     "end_time": "2022-05-11T09:50:15.350987Z",
     "start_time": "2022-05-11T09:50:14.244893Z"
    }
   },
   "outputs": [],
   "source": [
    "# make plots of synaptic variables sNMDA\n",
    "# plotDynamics(model, [1,22,31,32,33, 43], 'LRECurrent', True, 2, (7,4), 12, True, 'makeFigures/LREcurrentPlot.svg')\n",
    "\n",
    "plotDynamics(model, plotAreaList, 'LRECurrent', True, 2, (7,4), 12, True, 'makeFigures/LREcurrentPlot.svg')"
   ]
  },
  {
   "cell_type": "code",
   "execution_count": null,
   "id": "reliable-burke",
   "metadata": {
    "ExecuteTime": {
     "end_time": "2022-05-11T09:50:16.255152Z",
     "start_time": "2022-05-11T09:50:15.353606Z"
    }
   },
   "outputs": [],
   "source": [
    "# make plots of synaptic variables sNMDA\n",
    "# plotDynamics(model, [1,22,31,32,33, 43], 'LRICurrent', True, 2, (7,4), 12, True, 'makeFigures/LRIcurrentPlot.svg')\n",
    "plotDynamics(model, plotAreaList, 'LRICurrent', True, 2, (7,4), 12, True, 'makeFigures/LRIcurrentPlot.svg')\n"
   ]
  },
  {
   "cell_type": "code",
   "execution_count": null,
   "id": "4e87b470",
   "metadata": {},
   "outputs": [],
   "source": []
  },
  {
   "cell_type": "code",
   "execution_count": null,
   "id": "4c5936cc",
   "metadata": {},
   "outputs": [],
   "source": [
    "# plt.plot(modelnlr.S_NMDA[:, 0, 0])\n",
    "# plt.figure()\n",
    "# plt.plot(modelnlr.S_GABA[:, 0, 2])\n",
    "# print(modelnlr.S_GABA.shape, modelnlr.n_areas)\n"
   ]
  },
  {
   "cell_type": "code",
   "execution_count": null,
   "id": "08f4ea22",
   "metadata": {},
   "outputs": [],
   "source": [
    "# plt.plot(modelnlr.S_NMDA[np.arange(int(plot_start_time/p['dt']), int(plot_end_time/p['dt']), 1), 0, 0])\n",
    "# plt.figure()\n",
    "# plt.plot(modelnlr.S_GABA[np.arange(int(plot_start_time/p['dt']), int(plot_end_time/p['dt']), 1), 0, 2])"
   ]
  },
  {
   "cell_type": "code",
   "execution_count": null,
   "id": "ce49d58c",
   "metadata": {},
   "outputs": [],
   "source": []
  },
  {
   "cell_type": "code",
   "execution_count": null,
   "id": "71e4fa16",
   "metadata": {},
   "outputs": [],
   "source": [
    "# quick check sNMDA\n",
    "with open('results/model_V1_noLR_noInh_zeronoise_ISN.pkl', 'rb') as f:\n",
    "    modelnlr = pickle.load(f)\n",
    "# make plots of synaptic variables sNMDA\n",
    "plotDynamics(modelnlr, plotAreaList,'synaptic', True, 2, (7,4), 12, False, 'ISN/sNMDAPlot.svg')"
   ]
  },
  {
   "cell_type": "code",
   "execution_count": null,
   "metadata": {},
   "outputs": [],
   "source": [
    "0.74 * 0.5\n",
    "# 0.35* 0.5"
   ]
  },
  {
   "cell_type": "code",
   "execution_count": null,
   "id": "c6e50294",
   "metadata": {},
   "outputs": [],
   "source": [
    "# mmee\n",
    "\n",
    "# load noLR model\n",
    "# with open('results/model_V1_noLR_zeronoise.pkl', 'rb') as f:\n",
    "#     modelnlr = pickle.load(f)\n",
    "# with open('results/model_V1_noLR_noInh_zeronoise.pkl', 'rb') as f:\n",
    "#     modelnlr = pickle.load(f)\n",
    "\n",
    "with open('results/model_V1_noLR_zeronoise_ISN.pkl', 'rb') as f:\n",
    "    modelnlr = pickle.load(f)\n",
    "# with open('results/model_V1_noLR_noInh_zeronoise_ISN.pkl', 'rb') as f:\n",
    "#     modelnlr = pickle.load(f)\n",
    "\n",
    "\n",
    "# define paramters that are useful.\n",
    "p = modelnlr.parameters\n",
    "# get baseline synaptic variable. \n",
    "plot_start_time = 8\n",
    "plot_end_time = 9\n",
    "\n",
    "# mm222\n",
    "p['g_E_I'] = 0.74 * 0.5 * brian2.nA  # saddle node1  0.175nA    saddle node2 0.37nA\n",
    "\n",
    "\n",
    "k = 6 # V1 index    SSp-n: 4   AIp:6\n",
    "# geeV = p['g_E_self'] * modelnlr.local_EE_gradient[k][0]\n",
    "geeV = p['g_E_self'] * modelnlr.local_EE_gradient[k][0]\n",
    "\n",
    "\n",
    "# setting geeV to 1.5 or more fold to see the effect of local excitation\n",
    "# geeV = 1.5 * p['g_E_self'] * modelnlr.local_EE_gradient[k][0]\n",
    "\n",
    "\n",
    "\n",
    "geeCrossV = p['g_E_cross']\n",
    "\n",
    "geiV = p['g_E_I'] * modelnlr.local_EI_gradient[k][0]\n",
    "# setting geiV to 0 to see the effect of local inhibition\n",
    "# geiV = 0\n",
    "\n",
    "gieV = p['g_I_E'] * modelnlr.local_IE_gradient[k][0]\n",
    "giiV = p['g_Iself'] * modelnlr.local_II_gradient[k][0]\n",
    "\n",
    "# p['I0_E_mean'] = 1.5 * p['I0_E_mean']\n",
    "\n",
    "# printout the baseline synaptic variable from simulation.\n",
    "saStar = np.mean(modelnlr.S_NMDA[np.arange(int(plot_start_time/p['dt']), int(plot_end_time/p['dt']), 1), k, 0])\n",
    "sbStar = np.mean(modelnlr.S_NMDA[np.arange(int(plot_start_time/p['dt']), int(plot_end_time/p['dt']), 1), k, 1])\n",
    "scStar = np.mean(modelnlr.S_GABA[np.arange(int(plot_start_time/p['dt']), int(plot_end_time/p['dt']), 1), k, 2])\n",
    "print('area', modelnlr.area_list[k], 'saStar', saStar, 'sbStar', sbStar, 'scStar', scStar)\n",
    "print('gEI', p['g_E_I'])"
   ]
  },
  {
   "cell_type": "code",
   "execution_count": null,
   "id": "41331dac",
   "metadata": {},
   "outputs": [],
   "source": [
    "# ItotalG calculated\n",
    "ItotalGcalc = gieV * saStar + gieV * sbStar - giiV * scStar + p['I0_I']\n",
    "print(ItotalGcalc)\n",
    "# RG calculated\n",
    "phiIcalc =1/p['g_2'] * (p['c_I'] * (gieV * saStar + gieV * sbStar - giiV * scStar + p['I0_I']) - p['c_0'] ) + p['r0_I']\n",
    "print(phiIcalc)\n",
    "# calculate dsc/dt\n",
    "-scStar/ p['tau_GABA'] + p['gamma_GABA'] * phiIcalc\n",
    "# calculate sc\n",
    "p['tau_GABA'] * p['gamma_GABA'] * phiIcalc\n",
    "\n",
    "# # real simulation Itotal\n",
    "# np.mean(modelnlr.I_total[np.arange(int(plot_start_time/p['dt']), int(plot_end_time/p['dt']), 1), k, 2])\n",
    "# # real simulation R\n",
    "# np.mean(modelnlr.R[np.arange(int(plot_start_time/p['dt']), int(plot_end_time/p['dt']), 1), k, 2])"
   ]
  },
  {
   "cell_type": "code",
   "execution_count": null,
   "id": "283a3339",
   "metadata": {},
   "outputs": [],
   "source": []
  },
  {
   "cell_type": "code",
   "execution_count": null,
   "id": "2bc4521f",
   "metadata": {},
   "outputs": [],
   "source": []
  },
  {
   "cell_type": "code",
   "execution_count": null,
   "id": "8bfd721d",
   "metadata": {},
   "outputs": [],
   "source": [
    "import sympy\n",
    "from sympy import symbols, diff, exp, lambdify\n",
    "from scipy.optimize import fsolve\n",
    "\n",
    "\n",
    "# Define the variables\n",
    "sa, sb, sc, tauN, gamma, gee, geeCross, gei, I0a, a, b, d = symbols('sa sb sc tauN gamma gee geeCross gei I0a a b d')\n",
    "tauG, gammaI, gI, c1, gie, gii, I0c, c0, r0 = symbols('tauG gammaI gI c1 gie gii I0c c0 r0')\n",
    "\n",
    "# Define the function phi\n",
    "phiA = (a * (gee * sa + geeCross * sb - gei * sc + I0a) - b) / (1 - exp(-d * (a * (gee * sa + geeCross * sb - gei * sc + I0a) - b)))\n",
    "phiB = (a * (gee * sb + geeCross * sa - gei * sc + I0a) - b) / (1 - exp(-d * (a * (gee * sb + geeCross * sa - gei * sc + I0a) - b)))\n",
    "phiI = 1/gI * (c1 * (gie * sa + gie * sb - gii * sc + I0c) - c0 ) + r0\n",
    "\n",
    "# Define the function F G\n",
    "FA = -sa / tauN + gamma * (1 - sa) * phiA\n",
    "FB = -sb / tauN + gamma * (1 - sb) * phiB\n",
    "G = -sc/ tauG + gammaI * phiI\n",
    "\n",
    "# Compute the partial derivatives\n",
    "FA_sa = diff(FA, sa)\n",
    "FA_sb = diff(FA, sb)\n",
    "FA_sc = diff(FA, sc)\n",
    "\n",
    "FB_sa = diff(FB, sa)\n",
    "FB_sb = diff(FB, sb)\n",
    "FB_sc = diff(FB, sc)\n",
    "\n",
    "G_sa = diff(G, sa)\n",
    "G_sb = diff(G, sb)\n",
    "G_sc = diff(G, sc)\n",
    "\n",
    "# define values for parameters, except sa, sb, sc.\n",
    "values_nonSaSc = {\n",
    "    tauN: p['tau_NMDA'],\n",
    "    gamma: p['gamma_NMDA'],\n",
    "    gee: geeV,\n",
    "    geeCross: geeCrossV,\n",
    "    gei: geiV,\n",
    "    I0a: p['I0_E_mean'],\n",
    "    a: p['a_E'],\n",
    "    b: p['b_E'],\n",
    "    d: p['d_E'],\n",
    "    \n",
    "    tauG: p['tau_GABA'],\n",
    "    gammaI: p['gamma_GABA'],\n",
    "    gI: p['g_2'],\n",
    "    c1: p['c_I'],\n",
    "    gie: gieV,\n",
    "    gii: giiV,\n",
    "    I0c: p['I0_I'],\n",
    "    c0: p['c_0'],\n",
    "    r0: p['r0_I']\n",
    "}"
   ]
  },
  {
   "cell_type": "code",
   "execution_count": null,
   "id": "75c10dae",
   "metadata": {},
   "outputs": [],
   "source": [
    "# solve the fixed value. \n",
    "\n",
    "# solve the system\n",
    "FA_sub = FA.subs(values_nonSaSc)\n",
    "FB_sub = FB.subs(values_nonSaSc)\n",
    "G_sub = G.subs(values_nonSaSc)\n",
    "\n",
    "sc_sub = sympy.solve(G_sub, sc)\n",
    "sc_sub = sc_sub[0].subs({sb:sa}) # assuming sb = sa\n",
    "FA_eq = FA_sub.subs({sb:sa, sc:sc_sub})"
   ]
  },
  {
   "cell_type": "code",
   "execution_count": null,
   "id": "f7278f39",
   "metadata": {},
   "outputs": [],
   "source": [
    "print(FA_eq)"
   ]
  },
  {
   "cell_type": "code",
   "execution_count": null,
   "id": "9f56121d",
   "metadata": {},
   "outputs": [],
   "source": [
    "# inputStr should match what printed out from print(FA_eq)\n",
    "inputStr = '-16.6666666666667*sa + 1.282*(1 - sa)*(49.0723671097239*sa - 11.8463488134316)/(1 - 38.4237375716781*exp(-15.114289069795*sa))'\n",
    "inputStr = inputStr.replace('sa', 'saArrXXGEI').replace('exp', 'np.exp')\n",
    "print(inputStr)"
   ]
  },
  {
   "cell_type": "code",
   "execution_count": null,
   "id": "eafe4389",
   "metadata": {},
   "outputs": [],
   "source": [
    "# XX * GEI: plot the equation of FA and check the position of zero point.\n",
    "saArrXXGEI = np.arange(0, 1, 0.01)  # sa is changed\n",
    "# replace the formula with what printed out from inputStr\n",
    "FA_calcEQ_XXGEI = -16.6666666666667*saArrXXGEI + 1.282*(1 - saArrXXGEI)*(49.0723671097239*saArrXXGEI - 11.8463488134316)/(1 - 38.4237375716781*np.exp(-15.114289069795*saArrXXGEI))\n",
    "plt.plot(saArrXXGEI, FA_calcEQ_XXGEI)\n",
    "plt.ylim([-1, 1])\n",
    "plt.hlines(0, 0, 1, color='k')"
   ]
  },
  {
   "cell_type": "code",
   "execution_count": null,
   "id": "f86658c7",
   "metadata": {},
   "outputs": [],
   "source": []
  },
  {
   "cell_type": "code",
   "execution_count": null,
   "id": "020a660a",
   "metadata": {},
   "outputs": [],
   "source": [
    "# Convert the SymPy expression to a function\n",
    "fa_expr = lambdify(sa, FA_eq)\n",
    "print(fa_expr)\n",
    "\n",
    "# Use fsolve to find the root\n",
    "initial_guess = 1\n",
    "root = fsolve(fa_expr, initial_guess)\n",
    "saStar = float(root[0])\n",
    "# always double check if the root is a zero point or just close to zero. \n",
    "va = FA_eq.subs({sa:saStar})\n",
    "print(va)\n",
    "if abs(va) < 1e-6:\n",
    "    print(\"The saStar is\", saStar)\n",
    "    sbStar = float(saStar)\n",
    "    print(\"The sbStar is\", sbStar)\n",
    "    scStar = float(sc_sub.subs({sa:saStar}))\n",
    "    print(\"The scStar is\", scStar)\n",
    "else:\n",
    "    print(\"Zero point not found.\")"
   ]
  },
  {
   "cell_type": "code",
   "execution_count": null,
   "id": "aee03036",
   "metadata": {},
   "outputs": [],
   "source": []
  },
  {
   "cell_type": "code",
   "execution_count": null,
   "id": "fd63cf6c",
   "metadata": {},
   "outputs": [],
   "source": [
    "# # 1* GEE no inh: plot the equation of FA and check the position of zero point.\n",
    "# print(FA_eq)\n",
    "# saArr1GEE = np.arange(0, 1, 0.01)\n",
    "# FA_calcEQ_1GEE = - 16.6666666666667 * saArr1GEE + 1.282 * (1 - saArr1GEE) * (57.498 * saArr1GEE - 11.3) / (1 - 32.4727085618182 * np.exp(-17.709384 * saArr1GEE) )\n",
    "\n",
    "# plt.plot(saArr1GEE, FA_calcEQ_1GEE)\n",
    "# plt.ylim([-1, 1])\n",
    "# plt.hlines(0, 0, 1, color='k')"
   ]
  },
  {
   "cell_type": "code",
   "execution_count": null,
   "id": "327beffc",
   "metadata": {},
   "outputs": [],
   "source": [
    "# # 1.5 GEE no inh: plot the equation of FA and check the position of zero point.\n",
    "# print(FA_eq)\n",
    "\n",
    "# saArr = np.arange(0, 1, 0.01)\n",
    "# FA_rawEQ = - 16.6666666666667 * saArr + 1.282 * (1 - saArr) * (85.498 * saArr - 11.3) / (1 - 32.4727085618182 * np.exp(-26.333384 * saArr) )\n",
    "# plt.plot(saArr, FA_rawEQ)\n",
    "# plt.ylim([-1, 1])\n",
    "# plt.hlines(0, 0, 1, color='k')"
   ]
  },
  {
   "cell_type": "code",
   "execution_count": null,
   "id": "2927458a",
   "metadata": {},
   "outputs": [],
   "source": []
  },
  {
   "cell_type": "code",
   "execution_count": null,
   "id": "84a3bc04",
   "metadata": {},
   "outputs": [],
   "source": [
    "# pre requirement: test if preQ1 and preQ2 are larger than 0\n",
    "# (𝑎(𝑔_𝐸𝐸 𝑆_𝐴+𝑔_𝐸𝐼 𝑆_𝐶+𝐼_0𝐴 )−𝑏)>0   and  (1/𝑔_𝐼 (𝑐_1 (〖2𝑔〗_𝐼𝐸 𝑆_𝐴+𝑔_𝐼𝐼 𝑆_𝐶+𝐼_0𝐶 )−𝑐_0)+𝑟_0) > 0\n",
    "preQ1 = p['a_E'] *  (geeV * saStar + geeCrossV * sbStar - geiV * scStar + p['I0_E_mean']) - p['b_E']\n",
    "preQ2 = 1 / p['g_2'] * (p['c_I'] * (2 * gieV * saStar - giiV * scStar + p['I0_I']) - p['c_0']) + p['r0_I']\n",
    "print('check if both are larger than 0? ', preQ1, preQ2)"
   ]
  },
  {
   "cell_type": "code",
   "execution_count": null,
   "id": "7eff950e",
   "metadata": {},
   "outputs": [],
   "source": []
  },
  {
   "cell_type": "code",
   "execution_count": null,
   "id": "6475cd42",
   "metadata": {},
   "outputs": [],
   "source": [
    "# define the values\n",
    "values = {\n",
    "    sa: saStar,\n",
    "    sb: sbStar,\n",
    "    sc: scStar,\n",
    "    tauN: p['tau_NMDA'],\n",
    "    gamma: p['gamma_NMDA'],\n",
    "    gee: geeV,\n",
    "    geeCross: geeCrossV,\n",
    "    gei: geiV,\n",
    "    I0a: p['I0_E_mean'],\n",
    "    a: p['a_E'],\n",
    "    b: p['b_E'],\n",
    "    d: p['d_E'],\n",
    "    tauG: p['tau_GABA'],\n",
    "    gammaI: p['gamma_GABA'],\n",
    "    gI: p['g_2'],\n",
    "    c1: p['c_I'],\n",
    "    gie: gieV,\n",
    "    gii: giiV,\n",
    "    I0c: p['I0_I'],\n",
    "    c0: p['c_0'],\n",
    "    r0: p['r0_I']\n",
    "    \n",
    "}"
   ]
  },
  {
   "cell_type": "code",
   "execution_count": null,
   "metadata": {},
   "outputs": [],
   "source": []
  },
  {
   "cell_type": "code",
   "execution_count": null,
   "id": "09c15d38",
   "metadata": {},
   "outputs": [],
   "source": [
    "# substitute the values for the derivatives\n",
    "dfadsa = FA_sa.subs(values)\n",
    "dfadsb = FA_sb.subs(values)\n",
    "dfadsc = FA_sc.subs(values)\n",
    "\n",
    "dfbdsa = FB_sa.subs(values)\n",
    "dfbdsb = FB_sb.subs(values)\n",
    "dfbdsc = FB_sc.subs(values)\n",
    "\n",
    "dgdsa = G_sa.subs(values)\n",
    "dgdsb = G_sb.subs(values)\n",
    "dgdsc = G_sc.subs(values)"
   ]
  },
  {
   "cell_type": "code",
   "execution_count": null,
   "id": "d9723318",
   "metadata": {},
   "outputs": [],
   "source": [
    "# calculate raStar, rbStar, rcStar\n",
    "raStar = phiA.subs(values)\n",
    "print(\"The raStar is\", raStar)\n",
    "rbStar = phiB.subs(values)\n",
    "print(\"The rbStar is\", rbStar)\n",
    "rcStar = phiI.subs(values)\n",
    "print(\"The rcStar is\", rcStar)"
   ]
  },
  {
   "cell_type": "code",
   "execution_count": null,
   "id": "a0022def",
   "metadata": {},
   "outputs": [],
   "source": [
    "# calculate jacobian matrix and eigenvalues\n",
    "matr = [[float(dfadsa), float(dfadsb), float(dfadsc)],\n",
    "        [float(dfbdsa), float(dfbdsb), float(dfbdsc)],\n",
    "          [float(dgdsa), float(dgdsb), float(dgdsc)]]\n",
    "matr = np.array(matr)\n",
    "print(matr)\n",
    "eigenvalues, _ = np.linalg.eig(matr)\n",
    "print(eigenvalues)"
   ]
  },
  {
   "cell_type": "code",
   "execution_count": null,
   "id": "c505abdd",
   "metadata": {},
   "outputs": [],
   "source": []
  },
  {
   "cell_type": "code",
   "execution_count": null,
   "id": "trying-young",
   "metadata": {
    "ExecuteTime": {
     "end_time": "2022-03-04T03:01:20.320747Z",
     "start_time": "2022-03-04T03:01:20.317978Z"
    }
   },
   "outputs": [],
   "source": [
    "noLabelAreas = ['SSp-ll','SSp-ul','SSp-n','SSp-m','SSp-tr','VISli','VISpl','VISrl','RSPd','AUDv','SSs']"
   ]
  },
  {
   "cell_type": "code",
   "execution_count": null,
   "id": "activated-firewall",
   "metadata": {
    "ExecuteTime": {
     "end_time": "2022-03-04T03:05:55.185119Z",
     "start_time": "2022-03-04T03:05:55.172313Z"
    },
    "code_folding": []
   },
   "outputs": [],
   "source": [
    "def plotFRvsPVnotebook(model, annotation_adjust, showLabel,noLabelAreas, dotSize, figureSize, fontSize, saveFig, fileName):\n",
    "\n",
    "    persistentact_df = model.persistentact_df\n",
    "    persistentact_df_sort = persistentact_df.sort_values(by='PVdensity').reset_index(drop=True)\n",
    "\n",
    "    div = model.parameters['div']\n",
    "    div_name_list = model.parameters['div_name_list']\n",
    "    div_color_list = model.parameters['div_color_list']\n",
    "\n",
    "    fig = plt.figure(figsize=figureSize, dpi=300, facecolor='w', edgecolor='k')\n",
    "    plt.rcParams.update({'font.size': fontSize})\n",
    "    # plot FR vs hierarchy\n",
    "    plt.scatter(persistentact_df_sort['PVdensity'], persistentact_df_sort['persistentact'],\n",
    "                s=dotSize)\n",
    "    ax = plt.gca()\n",
    "    # plt.ylim(-6.5,65) # leave enough space for annotation.\n",
    "    # add annotation text\n",
    "    if showLabel:\n",
    "        texts = []\n",
    "        xPos = []\n",
    "        yPos = []\n",
    "        for i in range(model.n_areas):\n",
    "            acr = persistentact_df_sort['Acronym'][i]\n",
    "            if acr in model.area_list:\n",
    "                for div_name, div_color in zip(div_name_list, div_color_list):\n",
    "                    if acr in div[div_name] and acr not in noLabelAreas:\n",
    "                        xPos += persistentact_df_sort['PVdensity'][i]\n",
    "                        yPos += persistentact_df_sort['persistentact'][i]                      \n",
    "                        texts += [ax.text(persistentact_df_sort['PVdensity'][i],\n",
    "                                          persistentact_df_sort['persistentact'][i], acr,\n",
    "                                          color=div_color, fontsize=fontSize*0.6)]\n",
    "\n",
    "        # # use adjust library to adjust the position of annotations.\n",
    "        if annotation_adjust:\n",
    "            adjust_text(texts, xPos, yPos,\n",
    "                        ax=ax, precision=0.001,\n",
    "                        arrowprops=dict(arrowstyle='-', color='gray', alpha=.3))\n",
    "#         if annotation_adjust:\n",
    "#             adjust_text(texts, persistentact_df_sort['PVdensity'], persistentact_df_sort['persistentact'],\n",
    "#                         ax=ax, precision=0.001,\n",
    "#                         expand_text=(1.01, 1.05), expand_points=(1.01, 1.05),\n",
    "#                         force_text=(0.01, 0.25), force_points=(0.01, 0.25),\n",
    "#                         arrowprops=dict(arrowstyle='-', color='gray', alpha=.3))\n",
    "\n",
    "    ax.spines['top'].set_visible(False)\n",
    "    ax.spines['right'].set_visible(False)\n",
    "    # plt.setp(ax.spines.values(), linewidth=3)\n",
    "    # ax.xaxis.set_tick_params(width=7)\n",
    "    # ax.yaxis.set_tick_params(width=7)\n",
    "\n",
    "    plt.xlabel('PV cell fraction')\n",
    "    plt.ylabel('Rate (Hz)')\n",
    "    # plt.ylim([-1,8])\n",
    "\n",
    "    corr, pvalue = sp.stats.pearsonr(persistentact_df_sort['PVdensity'],\n",
    "                                     persistentact_df_sort['persistentact'])\n",
    "    plt.title('r=' + str(round(corr, 2)) + ', p=' + f\"{pvalue:.2E}\")\n",
    "    print(f\"{pvalue:.2E}\")\n",
    "\n",
    "    # save figure\n",
    "    if saveFig:\n",
    "        plt.savefig('figure/' + fileName, dpi=300, bbox_inches='tight',transparent=True)\n",
    "    # plt.savefig('figure/neurondensity_grad.png',dpi=80,bbox_inches='tight')"
   ]
  },
  {
   "cell_type": "code",
   "execution_count": null,
   "id": "therapeutic-prize",
   "metadata": {
    "ExecuteTime": {
     "end_time": "2022-03-04T03:05:59.208492Z",
     "start_time": "2022-03-04T03:05:55.739986Z"
    },
    "scrolled": false
   },
   "outputs": [],
   "source": [
    "# use the raw PV values not the normalized ones\n",
    "# plotFRvsPVnotebook(model, True, True,noLabelAreas, 8, (5,3), 12, True, 'makeFigures/FRvsPVnotebook.svg')"
   ]
  },
  {
   "cell_type": "code",
   "execution_count": null,
   "id": "0a22418e",
   "metadata": {},
   "outputs": [],
   "source": [
    "def plotFRvsrawPVnotebook(model, rawPV_df, annotation_adjust, showLabel, noLabelAreas, yRange, dotSize, figureSize, fontSize, saveFig, fileName):\n",
    "    persistentact_df_sort = model.persistentact_df\n",
    "    X = rawPV_df['raw PV relative density']\n",
    "    \n",
    "    div = model.parameters['div']\n",
    "    div_name_list = model.parameters['div_name_list']\n",
    "    div_color_list = model.parameters['div_color_list']\n",
    "\n",
    "    fig = plt.figure(figsize=figureSize, dpi=300, facecolor='w', edgecolor='k')\n",
    "    plt.rcParams.update({'font.size': fontSize})\n",
    "    # plot FR vs hierarchy\n",
    "    plt.scatter(X, persistentact_df_sort['persistentact'],\n",
    "                s=dotSize)\n",
    "    ax = plt.gca()\n",
    "    # plt.ylim(-6.5,65) # leave enough space for annotation.\n",
    "    # add annotation text\n",
    "    if showLabel:\n",
    "        texts = []\n",
    "        xPos = []\n",
    "        yPos = []\n",
    "        for i in range(model.n_areas):\n",
    "            acr = persistentact_df_sort['Acronym'][i]\n",
    "            if acr in model.area_list:\n",
    "                for div_name, div_color in zip(div_name_list, div_color_list):\n",
    "                    if acr in div[div_name] and acr not in noLabelAreas:\n",
    "                        xPos += X[i]\n",
    "                        yPos += persistentact_df_sort['persistentact'][i]                      \n",
    "                        texts += [ax.text(X[i],\n",
    "                                          persistentact_df_sort['persistentact'][i], acr,\n",
    "                                          color=div_color, fontsize=fontSize*0.6)]\n",
    "\n",
    "        # # use adjust library to adjust the position of annotations.\n",
    "        if annotation_adjust:\n",
    "            adjust_text(texts, xPos, yPos,\n",
    "                        ax=ax, precision=0.001,\n",
    "                        arrowprops=dict(arrowstyle='-', color='gray', alpha=.3))\n",
    "#         if annotation_adjust:\n",
    "#             adjust_text(texts, persistentact_df_sort['PVdensity'], persistentact_df_sort['persistentact'],\n",
    "#                         ax=ax, precision=0.001,\n",
    "#                         expand_text=(1.01, 1.05), expand_points=(1.01, 1.05),\n",
    "#                         force_text=(0.01, 0.25), force_points=(0.01, 0.25),\n",
    "#                         arrowprops=dict(arrowstyle='-', color='gray', alpha=.3))\n",
    "\n",
    "    ax.spines['top'].set_visible(False)\n",
    "    ax.spines['right'].set_visible(False)\n",
    "\n",
    "    plt.xlabel('PV cell fraction')\n",
    "    plt.ylabel('Rate (Hz)')\n",
    "    if yRange:\n",
    "        plt.ylim(yRange)\n",
    "\n",
    "    corr, pvalue = sp.stats.pearsonr(X,\n",
    "                                     persistentact_df_sort['persistentact'])\n",
    "    plt.title('r=' + str(round(corr, 2)) + ', p=' + f\"{pvalue:.2E}\")\n",
    "    print(f\"{pvalue:.2E}\")\n",
    "\n",
    "    # save figure\n",
    "    if saveFig:\n",
    "        plt.savefig('figure/' + fileName, dpi=300, bbox_inches='tight',transparent=True)\n"
   ]
  },
  {
   "cell_type": "code",
   "execution_count": null,
   "id": "8f9120b1",
   "metadata": {},
   "outputs": [],
   "source": [
    "# make plot of raw pv vs firing rate\n",
    "noLabelAreasPV = ['SSp-ll','SSp-ul','SSp-n','SSp-m','SSp-tr','VISli','VISpl','VISrl','RSPd','AUDv','SSs','AUDd','RSPv','VISC']\n",
    "plotFRvsrawPVnotebook(model, rawPV_df, True, True, noLabelAreasPV, None, 8, (5,3), 12, True, 'makeFigures/FRvsrawPVnotebook.svg')"
   ]
  },
  {
   "cell_type": "code",
   "execution_count": null,
   "id": "delayed-carol",
   "metadata": {
    "ExecuteTime": {
     "end_time": "2022-03-02T06:32:09.842338Z",
     "start_time": "2022-03-02T06:32:09.837835Z"
    },
    "code_folding": [
     0
    ]
   },
   "outputs": [],
   "source": [
    "def generatePVHierDf(model, hierarchy_df, rawPV_df):\n",
    "    c1, c2, c3, c4 = [], [], [], []\n",
    "    for index, row in model.persistentact_df.iterrows():\n",
    "        if row['Acronym'] in list(hierarchy_df.index):\n",
    "            c1.append(row['Acronym'])\n",
    "            # c2.append(row['PVdensity'])\n",
    "            c2.append(rawPV_df.loc[row['Acronym']]['raw PV relative density'])\n",
    "            c3.append(hierarchy_df.loc[row['Acronym']]['hierarchy index'])\n",
    "            c4.append(row['persistentact'])\n",
    "    df = pd.DataFrame()\n",
    "    df['Acronym'] = c1\n",
    "    df['PVdensity'] = c2\n",
    "    df['hierarchy'] = c3\n",
    "    df['persistentact'] = c4\n",
    "    return df"
   ]
  },
  {
   "cell_type": "code",
   "execution_count": null,
   "id": "commercial-consortium",
   "metadata": {
    "ExecuteTime": {
     "end_time": "2022-03-02T06:32:09.867712Z",
     "start_time": "2022-03-02T06:32:09.844753Z"
    }
   },
   "outputs": [],
   "source": []
  },
  {
   "cell_type": "code",
   "execution_count": null,
   "id": "persistent-movie",
   "metadata": {
    "ExecuteTime": {
     "end_time": "2022-03-04T03:02:15.072204Z",
     "start_time": "2022-03-04T03:02:15.062760Z"
    },
    "code_folding": []
   },
   "outputs": [],
   "source": [
    "def plotFRvsHiernotebook(model, PVHierDf, annotation_adjust, showLabel, noLabelAreas, yRange, dotSize, figureSize, fontSize, saveFig, fileName):\n",
    "    \n",
    "    div = model.parameters['div']\n",
    "    div_name_list = model.parameters['div_name_list']\n",
    "    div_color_list = model.parameters['div_color_list']\n",
    "\n",
    "    fig = plt.figure(figsize=figureSize, dpi=300, facecolor='w', edgecolor='k')\n",
    "    plt.rcParams.update({'font.size': fontSize})\n",
    "    # plot FR vs hierarchy\n",
    "    plt.scatter(PVHierDf['hierarchy'], PVHierDf['persistentact'],\n",
    "               s=dotSize)\n",
    "    ax = plt.gca()\n",
    "    if yRange:\n",
    "        plt.ylim(yRange) # leave enough space for annotation.\n",
    "    # add annotation text\n",
    "    if showLabel:\n",
    "        texts = []\n",
    "        xPos = []\n",
    "        yPos = []\n",
    "        for i in range(len(PVHierDf)):\n",
    "            acr = PVHierDf['Acronym'][i]\n",
    "            if acr in model.area_list:\n",
    "                for div_name, div_color in zip(div_name_list, div_color_list):\n",
    "                    if acr in div[div_name] and acr not in noLabelAreas:\n",
    "                        xPos += PVHierDf['hierarchy'][i]\n",
    "                        yPos += PVHierDf['persistentact'][i]\n",
    "                        texts += [ax.text(PVHierDf['hierarchy'][i],\n",
    "                                          PVHierDf['persistentact'][i], acr,\n",
    "                                          color=div_color, fontsize=fontSize*0.6)]\n",
    "                        \n",
    "        # # use adjust library to adjust the position of annotations.\n",
    "        if annotation_adjust:\n",
    "            adjust_text(texts, xPos, yPos,\n",
    "                        ax=ax, precision=0.001,\n",
    "                        arrowprops=dict(arrowstyle='-', color='gray', alpha=.3))\n",
    "\n",
    "    ax.spines['top'].set_visible(False)\n",
    "    ax.spines['right'].set_visible(False)\n",
    "    # plt.setp(ax.spines.values(), linewidth=3)\n",
    "    # ax.xaxis.set_tick_params(width=7)\n",
    "    # ax.yaxis.set_tick_params(width=7)\n",
    "\n",
    "    plt.xlabel('Hierarchy')\n",
    "    plt.ylabel('Rate (Hz)')\n",
    "    # plt.ylim([-1,8])\n",
    "\n",
    "    corr, pvalue = sp.stats.pearsonr(PVHierDf['hierarchy'],\n",
    "                                     PVHierDf['persistentact'])\n",
    "    plt.title('r=' + str(round(corr, 2)) + ', p=' + f\"{pvalue:.2E}\")\n",
    "    print(f\"{pvalue:.2E}\")\n",
    "\n",
    "    # save figure\n",
    "    if saveFig:\n",
    "        plt.savefig('figure/' + fileName, dpi=300, bbox_inches='tight',transparent=True)\n",
    "    # plt.savefig('figure/neurondensity_grad.png',dpi=80,bbox_inches='tight')"
   ]
  },
  {
   "cell_type": "code",
   "execution_count": null,
   "id": "private-scene",
   "metadata": {
    "ExecuteTime": {
     "end_time": "2022-03-04T03:02:19.758651Z",
     "start_time": "2022-03-04T03:02:15.074375Z"
    },
    "scrolled": false
   },
   "outputs": [],
   "source": [
    "PVHierDf = generatePVHierDf(model, hierarchy_df, rawPV_df)\n",
    "plotFRvsHiernotebook(model, PVHierDf, True, True, noLabelAreas,[-5,75], 8, (5,3), 12, True, 'makeFigures/FRvsHiernotebook.svg')"
   ]
  },
  {
   "cell_type": "code",
   "execution_count": null,
   "id": "instrumental-poster",
   "metadata": {
    "ExecuteTime": {
     "end_time": "2022-03-02T06:32:26.896170Z",
     "start_time": "2022-03-02T06:32:26.886019Z"
    },
    "code_folding": []
   },
   "outputs": [],
   "source": [
    "def plotPVvsHiernotebook(model, PVHierDf, annotation_adjust, showLabel, dotSize, figureSize, fontSize, saveFig, fileName):\n",
    "    \n",
    "    div = model.parameters['div']\n",
    "    div_name_list = model.parameters['div_name_list']\n",
    "    div_color_list = model.parameters['div_color_list']\n",
    "\n",
    "    fig = plt.figure(figsize=figureSize, dpi=300, facecolor='w', edgecolor='k')\n",
    "    plt.rcParams.update({'font.size': fontSize})\n",
    "    # plot FR vs hierarchy\n",
    "    plt.scatter(PVHierDf['hierarchy'], PVHierDf['PVdensity'],\n",
    "               s=dotSize)\n",
    "    ax = plt.gca()\n",
    "    # plt.ylim(-6.5,65) # leave enough space for annotation.\n",
    "    # add annotation text\n",
    "    if showLabel:\n",
    "        texts = []\n",
    "        for i in range(len(PVHierDf)):\n",
    "            acr = PVHierDf['Acronym'][i]\n",
    "            if acr in model.area_list:\n",
    "                for div_name, div_color in zip(div_name_list, div_color_list):\n",
    "                    if acr in div[div_name]:\n",
    "                        texts += [ax.text(PVHierDf['hierarchy'][i],\n",
    "                                          PVHierDf['PVdensity'][i], acr,\n",
    "                                          color=div_color, fontsize=fontSize*0.6)]\n",
    "\n",
    "        # # use adjust library to adjust the position of annotations.\n",
    "        if annotation_adjust:\n",
    "            adjust_text(texts, PVHierDf['hierarchy'], PVHierDf['PVdensity'],\n",
    "                        ax=ax, precision=0.001,\n",
    "                        arrowprops=dict(arrowstyle='-', color='gray', alpha=.3))\n",
    "\n",
    "    ax.spines['top'].set_visible(False)\n",
    "    ax.spines['right'].set_visible(False)\n",
    "    # plt.setp(ax.spines.values(), linewidth=3)\n",
    "    # ax.xaxis.set_tick_params(width=7)\n",
    "    # ax.yaxis.set_tick_params(width=7)\n",
    "\n",
    "    plt.xlabel('Hierarchy')\n",
    "    plt.ylabel('PV cell fraction')\n",
    "    # plt.ylim([-1,8])\n",
    "\n",
    "    corr, pvalue = sp.stats.pearsonr(PVHierDf['hierarchy'],\n",
    "                                     PVHierDf['PVdensity'])\n",
    "    plt.title('r=' + str(round(corr, 2)) + ', p=' + f\"{pvalue:.2E}\")\n",
    "    print(f\"{pvalue:.2E}\")\n",
    "\n",
    "    # save figure\n",
    "    if saveFig:\n",
    "        plt.savefig('figure/' + fileName, dpi=300, bbox_inches='tight',transparent=True)\n",
    "    # plt.savefig('figure/neurondensity_grad.png',dpi=80,bbox_inches='tight')"
   ]
  },
  {
   "cell_type": "code",
   "execution_count": null,
   "id": "tired-uruguay",
   "metadata": {
    "ExecuteTime": {
     "end_time": "2022-03-02T06:33:23.027320Z",
     "start_time": "2022-03-02T06:32:26.908459Z"
    }
   },
   "outputs": [],
   "source": [
    "plotPVvsHiernotebook(model, PVHierDf, True, True, 8, (5,3), 12, True, 'makeFigures/PVvsHiernotebook.svg')"
   ]
  },
  {
   "cell_type": "code",
   "execution_count": null,
   "id": "127c2a8d",
   "metadata": {},
   "outputs": [],
   "source": [
    "# for making figures of noPVnoCIBsim. \n",
    "# make plot of raw pv vs firing rate\n",
    "noLabelAreasPV = ['SSp-ll','SSp-ul','SSp-n','SSp-m','SSp-tr','VISli','VISpl','VISrl','RSPd','AUDv','SSs','AUDd','RSPv','VISC']\n",
    "plotFRvsrawPVnotebook(model, rawPV_df, True, True, noLabelAreasPV, [-5,75], 8, (5,3), 12, True, 'noPVnoCIBsim/FRvsrawPVnotebook.pdf')"
   ]
  },
  {
   "cell_type": "code",
   "execution_count": null,
   "id": "4ee239d4",
   "metadata": {},
   "outputs": [],
   "source": [
    "# make plot of raw pv vs firing rate for no CIB model\n",
    "noLabelAreasPV = ['SSp-ll','SSp-ul','SSp-n','SSp-m','SSp-tr','VISli','VISpl','VISrl','RSPd','AUDv','SSs','AUDd','RSPv','VISC','VISpor',\n",
    "                  'PERI','TEa','FRP','GU','VISpm','RSPagl','VISa','ORBvl','ACAd','VISl','ORBl']\n",
    "plotFRvsrawPVnotebook(modelAveragePref, rawPV_df, True, True, noLabelAreasPV, [-5, 75], 8, (5,3), 12, True, 'noPVnoCIBsim/FRvsrawPVnotebook_avePref.pdf')"
   ]
  },
  {
   "cell_type": "code",
   "execution_count": null,
   "id": "8cb017d3",
   "metadata": {},
   "outputs": [],
   "source": [
    "# make plot of hierarchy vs firing rate for constant PV model\n",
    "# noLabelAreas =  ['SSp-ll','SSp-ul','SSp-n','SSp-m','SSp-tr','VISli','VISpl','VISrl','RSPd','AUDv','SSs']\n",
    "noLabelAreas =  ['SSp-ll','SSp-ul','SSp-n','SSp-m','SSp-tr','VISli','VISpl','VISrl','RSPd','AUDv','SSs',\n",
    "                 'SSp-un','VISC','RSPagl','PERI','ORBl','RSPv','AUDpo','VISal','VISpm']\n",
    "PVHierDf = generatePVHierDf(modelAveragePV, hierarchy_df, rawPV_df)\n",
    "plotFRvsHiernotebook(modelAveragePV, PVHierDf, True, True, noLabelAreas,[-5,75], 8, (5,3), 12, True, 'noPVnoCIBsim/FRvsHiernotebook_avePV.pdf')"
   ]
  },
  {
   "cell_type": "code",
   "execution_count": null,
   "id": "2ce3f6c9",
   "metadata": {},
   "outputs": [],
   "source": [
    "# make plot of raw pv vs firing rate for model in the alternative regime.\n",
    "# noLabelAreasPV = ['SSp-ll','SSp-ul','SSp-n','SSp-m','SSp-tr','VISli','VISpl','VISrl','RSPd','AUDv','SSs','AUDd','RSPv','VISC', 'ACAv','VISam','VISa','ORBvl','VISpor','AUDp', 'MOs']\n",
    "noLabelAreasPV = ['SSp-ll','SSp-ul','SSp-n','SSp-m','SSp-tr','VISli','VISpl','VISrl','RSPd',\n",
    "                  'VISl','VISal','VISpor','VISa','VISC','VISpm','RSPagl','RSPv','SSs','TEa','AUDpo',\n",
    "                  'FRP','ECT']\n",
    "plotFRvsrawPVnotebook(modelAlternative, rawPV_df, True, True, noLabelAreasPV, [-5, 75], 8, (5,3), 12, True, 'noPVnoCIBsim/FRvsrawPVnotebook_alt.pdf')"
   ]
  },
  {
   "cell_type": "code",
   "execution_count": null,
   "id": "15df122e",
   "metadata": {},
   "outputs": [],
   "source": [
    "# make plot of raw pv vs firing rate for no CIB model in the alternative regime.\n",
    "noLabelAreasPV = ['SSp-ll','SSp-ul','SSp-n','SSp-m','SSp-tr','VISli','VISpl','VISrl','RSPd','AUDv','SSs','AUDd','RSPv','VISC', 'ACAv','VISam','VISa','ORBvl','VISpor','AUDp', 'MOs',\n",
    "                  'AUDpo']\n",
    "plotFRvsrawPVnotebook(modelAlternativeAveragePref, rawPV_df, True, True, noLabelAreasPV, [-5, 75], 8, (5,3), 12, True, 'noPVnoCIBsim/FRvsrawPVnotebook_avePref_alt.pdf')"
   ]
  },
  {
   "cell_type": "code",
   "execution_count": null,
   "id": "692e2df3",
   "metadata": {},
   "outputs": [],
   "source": [
    "# make plot of hierarchy vs firing rate for constant PV model in the alternative regime.\n",
    "noLabelAreas =  ['SSp-ll','SSp-ul','SSp-n','SSp-m','SSp-tr','VISli','VISpl','VISrl','RSPd','AUDv','SSs',\n",
    "                 'SSp-un','VISl','RSPv','RSPagl','GU','ECT','AId','VISpm',\n",
    "                 'VISpor','AUDpo','VISam','ACAv','ACAd','VISal','ORBm','ILA','TEa']\n",
    "PVHierDf = generatePVHierDf(modelAlternativeAveragePV, hierarchy_df, rawPV_df)\n",
    "plotFRvsHiernotebook(modelAlternativeAveragePV, PVHierDf, True, True, noLabelAreas,[-5,75], 8, (5,3), 12, True, 'noPVnoCIBsim/FRvsHiernotebook_avePV_alt.pdf')"
   ]
  },
  {
   "cell_type": "code",
   "execution_count": null,
   "id": "32035090",
   "metadata": {},
   "outputs": [],
   "source": []
  },
  {
   "cell_type": "code",
   "execution_count": null,
   "id": "7bae1c68",
   "metadata": {},
   "outputs": [],
   "source": [
    "# plot the firing rate plot for all core inhibition\n",
    "noLabelAreas =  ['SSp-ll','SSp-ul','SSp-n','SSp-m','SSp-tr','VISli','VISpl','VISrl','RSPd','AUDv','SSs',\n",
    "                 'SSp-un','VISl','RSPv','RSPagl','GU','ECT','AId','VISpm']\n",
    "PVHierDf = generatePVHierDf(modelAllcore, hierarchy_df, rawPV_df)\n",
    "plotFRvsHiernotebook(modelAllcore, PVHierDf, True, True, noLabelAreas,None, 8, (5,3), 12, True, 'makeFigures/FRvsHiernotebook_allcore.pdf')\n"
   ]
  },
  {
   "cell_type": "code",
   "execution_count": null,
   "id": "whole-accuracy",
   "metadata": {
    "ExecuteTime": {
     "end_time": "2022-02-11T09:01:56.529340Z",
     "start_time": "2022-02-11T09:01:56.527120Z"
    }
   },
   "outputs": [],
   "source": [
    " # early firing ralated code need to be included into the main sim code. "
   ]
  },
  {
   "cell_type": "code",
   "execution_count": null,
   "id": "ecological-combat",
   "metadata": {
    "ExecuteTime": {
     "end_time": "2022-02-17T16:28:32.483840Z",
     "start_time": "2022-02-17T16:28:32.473865Z"
    }
   },
   "outputs": [],
   "source": [
    "def generateColorMap(value, cmap, area_list):\n",
    "    colorlist = []\n",
    "    allstring = '{' \n",
    "    maxval = np.max(value)\n",
    "    for i in range(len(area_list)):\n",
    "        newstr = '\"' + area_list[i] + '1\":{},'.format(i + 1)\n",
    "        allstring += newstr #allstring stores the names of all cortical areas \n",
    "        cval = value[i]\n",
    "        norm = mpl.colors.Normalize(vmin=0, vmax=1)\n",
    "        mycolor = list(cmap(norm(cval / maxval))[0:3])\n",
    "        colorCode = [int(255*mycolor[0]), int(255*mycolor[1]), int(255*mycolor[2])]\n",
    "        colorlist.append(colorCode)\n",
    "    allstring = allstring[:-1] + '}'\n",
    "    return allstring, colorlist"
   ]
  },
  {
   "cell_type": "code",
   "execution_count": null,
   "id": "removed-diabetes",
   "metadata": {
    "ExecuteTime": {
     "end_time": "2022-03-02T06:19:09.653528Z",
     "start_time": "2022-03-02T06:19:09.618436Z"
    }
   },
   "outputs": [],
   "source": [
    "# get early firing  # need to be included into the main sim code\n",
    "earlyPAlist = []\n",
    "earlyPAstarttime = 2.5 * brian2.second\n",
    "earlyPAendtime = 3 * brian2.second\n",
    "for i in range(len(area_list)):\n",
    "    earlyPA = np.mean(model.R[np.arange(int(earlyPAstarttime / model.dt), int(earlyPAendtime / model.dt), 1), i , 0]) / brian2.Hz\n",
    "    earlyPAlist.append(earlyPA)\n",
    "print(earlyPAlist)\n",
    "\n",
    "earlyCurrlist = []\n",
    "for i in range(len(area_list)):\n",
    "    earlyCurr = np.mean(model.S_NMDA[np.arange(int(earlyPAstarttime / model.dt), int(earlyPAendtime / model.dt), 1), i , 0])\n",
    "    earlyCurrlist.append(earlyCurr)\n",
    "print(earlyCurrlist)"
   ]
  },
  {
   "cell_type": "code",
   "execution_count": null,
   "id": "restricted-athens",
   "metadata": {
    "ExecuteTime": {
     "end_time": "2022-02-17T16:28:46.806824Z",
     "start_time": "2022-02-17T16:28:46.738754Z"
    },
    "scrolled": false
   },
   "outputs": [],
   "source": [
    "mapStr, FRcolorlist = generateColorMap(model.persistentact_df['persistentact'], plt.cm.viridis, area_list)\n",
    "_, PVcolorlist = generateColorMap(model.persistentact_df['PVdensity'], plt.cm.copper, area_list)\n",
    "_, Hiercolorlist = generateColorMap(model.persistentact_df['Hierarchy'], plt.cm.viridis, area_list)\n",
    "_, earlyPAcolorlist = generateColorMap(earlyPAlist, plt.cm.viridis, area_list)\n",
    "_, earlyCurrcolorlist = generateColorMap(earlyCurrlist, plt.cm.viridis, area_list)\n",
    "\n",
    "print(mapStr)\n",
    "print(FRcolorlist)\n",
    "print(PVcolorlist)\n",
    "print(Hiercolorlist)\n",
    "# print(earlyPAcolorlist)\n",
    "# print(earlyCurrcolorlist)\n",
    "# the background color is white [255,255,255] , website: https://scalablebrainatlas.incf.org/services/view3d_l2v_bkp.php?template=ABA_v3\n",
    "# if not working, use this one. \n",
    "# https://scalablebrainatlas.incf.org/services/view3d_l2v.php?template=ABA_v3&space=ABA_v3&mesh=wholebrain&deform=fiducial&l2v=&clim=%5Bnull%2Cnull%5D&bg=%5B0%2C0%2C0%5D&width=800&height=800&cam=L&overlay=labels&format=xhtml"
   ]
  },
  {
   "cell_type": "code",
   "execution_count": null,
   "id": "removable-uniform",
   "metadata": {
    "ExecuteTime": {
     "end_time": "2022-02-11T09:02:11.201416Z",
     "start_time": "2022-02-11T09:02:11.195617Z"
    }
   },
   "outputs": [],
   "source": [
    "# generate the colorbar for activity map\n",
    "def generateColorbar(value, cmap, fixmax, title, figureSize, fontSize, saveFig, fileName):\n",
    "    fig, ax = plt.subplots(figsize=figureSize, dpi=300, facecolor='w', edgecolor='k')\n",
    "    plt.rcParams.update({'font.size': fontSize})\n",
    "    fig.subplots_adjust(bottom=0.5)\n",
    "    if fixmax:\n",
    "        norm = mpl.colors.Normalize(vmin=0, vmax=fixmax)\n",
    "    else:\n",
    "        norm = mpl.colors.Normalize(vmin=0, vmax=np.max(value))\n",
    "\n",
    "    # plot the colorbar with maximum firing labeling\n",
    "    cb1 = mpl.colorbar.ColorbarBase(ax, cmap=cmap,\n",
    "                                    norm=norm,\n",
    "                                    orientation='vertical')\n",
    "    cb1.set_label(title)\n",
    "    #     cb1.ax.tick_params(labelsize=20)\n",
    "    # fig.show()\n",
    "    if saveFig:\n",
    "        plt.savefig('figure/' + fileName, dpi=300, bbox_inches='tight', transparent=True)"
   ]
  },
  {
   "cell_type": "code",
   "execution_count": null,
   "id": "perceived-concert",
   "metadata": {
    "ExecuteTime": {
     "end_time": "2022-01-13T14:29:42.960439Z",
     "start_time": "2022-01-13T14:29:42.666517Z"
    },
    "scrolled": true
   },
   "outputs": [],
   "source": [
    "generateColorbar(model.persistentact_df['persistentact'], mpl.cm.viridis, None,\n",
    "                 'Rate (Hz)', (0.25, 5), 12, True, 'makeFigures/FRcolorbar.svg')"
   ]
  },
  {
   "cell_type": "code",
   "execution_count": null,
   "id": "hawaiian-description",
   "metadata": {
    "ExecuteTime": {
     "end_time": "2022-01-13T14:29:43.844814Z",
     "start_time": "2022-01-13T14:29:43.628167Z"
    },
    "scrolled": true
   },
   "outputs": [],
   "source": [
    "generateColorbar(PVHierDf['PVdensity'], mpl.cm.copper, None,\n",
    "                 'PV cell fraction', (0.25, 5), 12, True, 'makeFigures/PVcolorbar.svg')"
   ]
  },
  {
   "cell_type": "code",
   "execution_count": null,
   "id": "laughing-writing",
   "metadata": {
    "ExecuteTime": {
     "end_time": "2022-01-13T14:30:41.631968Z",
     "start_time": "2022-01-13T14:30:41.424574Z"
    },
    "scrolled": true
   },
   "outputs": [],
   "source": [
    "generateColorbar(model.persistentact_df['Hierarchy'], mpl.cm.viridis, None,\n",
    "                 'Hierarchy', (0.25, 5), 12, True, 'makeFigures/Hierarchycolorbar.svg')"
   ]
  },
  {
   "cell_type": "code",
   "execution_count": null,
   "id": "geographic-method",
   "metadata": {
    "ExecuteTime": {
     "end_time": "2022-01-13T14:28:47.872221Z",
     "start_time": "2022-01-13T14:28:47.869785Z"
    },
    "scrolled": true
   },
   "outputs": [],
   "source": [
    "# generateColorbar(earlyPAlist, mpl.cm.viridis, None, \n",
    "#                  'Rate (Hz)', (0.25, 5), 12, True, 'earlyPAcolorbar.pdf')"
   ]
  },
  {
   "cell_type": "code",
   "execution_count": null,
   "id": "fuzzy-european",
   "metadata": {},
   "outputs": [],
   "source": []
  },
  {
   "cell_type": "code",
   "execution_count": null,
   "id": "every-particle",
   "metadata": {
    "ExecuteTime": {
     "end_time": "2022-01-13T14:28:48.134757Z",
     "start_time": "2022-01-13T14:28:48.130159Z"
    },
    "scrolled": true
   },
   "outputs": [],
   "source": [
    "# generateColorbar(earlyCurrlist, mpl.cm.viridis, 1, \n",
    "#                  'Synaptic variable', (0.25, 5), 12, True, 'earlySynapticcolorbar.pdf')"
   ]
  },
  {
   "cell_type": "code",
   "execution_count": null,
   "id": "silver-senator",
   "metadata": {},
   "outputs": [],
   "source": [
    "# make plots for simulations with different sensory modularity. \n",
    "\n",
    "# load S1 model\n",
    "with open('results/model_S1.pkl', 'rb') as f:\n",
    "    model_S1 = pickle.load(f)\n",
    "# load A1 model\n",
    "with open('results/model_A1.pkl', 'rb') as f:\n",
    "    model_A1 = pickle.load(f)"
   ]
  },
  {
   "cell_type": "code",
   "execution_count": null,
   "id": "485d5674",
   "metadata": {},
   "outputs": [],
   "source": [
    "ROIlist_S1 = [9,26,30,31,36, 38]\n",
    "# ROIlist_S1 = [9,21,26,30,31, 38]\n",
    "print([area_list[i] for i in ROIlist_S1])\n",
    "plotAreaList_S1 = [i+1 for i in ROIlist_S1]  # VISp stimulus\n",
    "# plot firing rates for sample areas\n",
    "plotDynamics(model_S1, plotAreaList_S1, 'FR', True, 2, (5,3), 12, True, 'makeFigures/dynamicsPlotModelS1.svg')\n",
    "PVHierDfModelS1 = generatePVHierDf(model_S1, hierarchy_df, rawPV_df)\n",
    "noLabelAreas = ['SSp-ll','SSp-ul','SSp-n','SSp-m','SSp-tr','VISli','VISpl','VISrl','RSPd','AUDv','SSs']\n",
    "plotFRvsHiernotebook(model_S1, PVHierDfModelS1, True, True, noLabelAreas, None, 8, (5,3), 12, True, 'makeFigures/FRvsHiernotebookModelS1.svg')\n",
    "# make plot of raw pv vs firing rate\n",
    "noLabelAreasPV = ['SSp-ll','SSp-ul','SSp-n','SSp-m','SSp-tr','VISli','VISpl','VISrl','RSPd','AUDv','SSs','AUDd','RSPv','VISC']\n",
    "plotFRvsrawPVnotebook(model_S1, rawPV_df, True, True, noLabelAreasPV, None, 8, (5,3), 12, True, 'makeFigures/FRvsrawPVnotebookS1.svg')"
   ]
  },
  {
   "cell_type": "code",
   "execution_count": null,
   "id": "1963e350",
   "metadata": {},
   "outputs": [],
   "source": [
    "ROIlist_A1 = [1,26,30,31,36, 38]\n",
    "# ROIlist_A1 = [1,21,26,30,31, 38]\n",
    "print([area_list[i] for i in ROIlist_A1])\n",
    "plotAreaList_A1 = [i+1 for i in ROIlist_A1]  # VISp stimulus\n",
    "# plot firing rates for sample areas\n",
    "plotDynamics(model_A1, plotAreaList_A1, 'FR', True, 2, (5,3), 12, True, 'makeFigures/dynamicsPlotModelA1.svg')\n",
    "PVHierDfModelA1 = generatePVHierDf(model_A1, hierarchy_df, rawPV_df)\n",
    "noLabelAreas = ['SSp-ll','SSp-ul','SSp-n','SSp-m','SSp-tr','VISli','VISpl','VISrl','RSPd','AUDv','SSs']\n",
    "plotFRvsHiernotebook(model_A1, PVHierDfModelA1, True, True, noLabelAreas, None, 8, (5,3), 12, True, 'makeFigures/FRvsHiernotebookModelA1.svg')\n",
    "\n",
    "# make plot of raw pv vs firing rate\n",
    "noLabelAreasPV = ['SSp-ll','SSp-ul','SSp-n','SSp-m','SSp-tr','VISli','VISpl','VISrl','RSPd','AUDv','SSs','AUDd','RSPv','VISC']\n",
    "plotFRvsrawPVnotebook(model_A1, rawPV_df, True, True, noLabelAreasPV, None, 8, (5,3), 12, True, 'makeFigures/FRvsrawPVnotebookA1.svg')"
   ]
  },
  {
   "cell_type": "code",
   "execution_count": null,
   "id": "9e711847",
   "metadata": {},
   "outputs": [],
   "source": [
    "\n",
    "# panel 1: plot the no LR model, with vs without local inhibition\n",
    "# panel 2: plot the LR model, with vs without local inhibition vs without long range to inhibition.\n",
    "# panel 3: in ISN regime, plot the no LR model, with vs without local inhibition, need noise\n",
    "# panel 4: in ISN regime, plot the LR model, with vs without local inhibition vs without long range to inhibition, need noise\n",
    "\n",
    "# supp 1: in ISN regime, the local network is bistable."
   ]
  },
  {
   "cell_type": "code",
   "execution_count": null,
   "id": "6e2b40b0",
   "metadata": {},
   "outputs": [],
   "source": []
  },
  {
   "cell_type": "code",
   "execution_count": null,
   "id": "472d7ad0",
   "metadata": {},
   "outputs": [],
   "source": [
    "def makePcomp(modelList, labelList, yRange, vsPV, annotation_adjust, addLegend, showLabel, noLabelAreas, dotSize, figureSize, fontSize, saveFig, fileName):\n",
    "\n",
    "    fig = plt.figure(figsize=figureSize, dpi=300, facecolor='w', edgecolor='k')\n",
    "    plt.rcParams.update({'font.size': fontSize})\n",
    "\n",
    "    for model, label in zip(modelList, labelList):\n",
    "        div = model.parameters['div']\n",
    "        div_name_list = model.parameters['div_name_list']\n",
    "        div_color_list = model.parameters['div_color_list']\n",
    "        PVHierDf = generatePVHierDf(model, hierarchy_df, rawPV_df)\n",
    "        if not vsPV:\n",
    "            # plot FR vs hierarchy\n",
    "            plt.scatter(PVHierDf['hierarchy'], PVHierDf['persistentact'],\n",
    "                    s=dotSize, label=label)\n",
    "        else:\n",
    "            # plot FR vs PV\n",
    "            plt.scatter(PVHierDf['PVdensity'], PVHierDf['persistentact'],\n",
    "                    s=dotSize, label=label)\n",
    "        ax = plt.gca()\n",
    "        \n",
    "        # add annotation text\n",
    "        if showLabel:\n",
    "            texts = []\n",
    "            xPos = []\n",
    "            yPos = []\n",
    "            for i in range(len(PVHierDf)):\n",
    "                acr = PVHierDf['Acronym'][i]\n",
    "                if acr in model.area_list:\n",
    "                    for div_name, div_color in zip(div_name_list, div_color_list):\n",
    "                        if acr in div[div_name] and acr not in noLabelAreas:\n",
    "                            xPos += PVHierDf['hierarchy'][i]\n",
    "                            yPos += PVHierDf['persistentact'][i]\n",
    "                            texts += [ax.text(PVHierDf['hierarchy'][i],\n",
    "                                            PVHierDf['persistentact'][i], acr,\n",
    "                                            color=div_color, fontsize=fontSize*0.6)]\n",
    "                            \n",
    "            # # use adjust library to adjust the position of annotations.\n",
    "            if annotation_adjust:\n",
    "                adjust_text(texts, xPos, yPos,\n",
    "                            ax=ax, precision=0.001,\n",
    "                            arrowprops=dict(arrowstyle='-', color='gray', alpha=.3))\n",
    "\n",
    "    if yRange:\n",
    "        plt.ylim(yRange) # leave enough space for annotation.\n",
    "\n",
    "    ax.spines['top'].set_visible(False)\n",
    "    ax.spines['right'].set_visible(False)\n",
    "    if addLegend:\n",
    "        ax.legend(loc='upper left', bbox_to_anchor=(0, 1.12), borderaxespad=0.,  fontsize=fontSize*0.75, frameon=False)\n",
    "    \n",
    "    if not vsPV:\n",
    "        plt.xlabel('Hierarchy')\n",
    "    else:\n",
    "        plt.xlabel('PV cell fraction')\n",
    "    plt.ylabel('Rate (Hz)')\n",
    "    \n",
    "    # plt.title('r=' + str(round(corr, 2)) + ', p=' + f\"{pvalue:.2E}\")\n",
    "    # print(f\"{pvalue:.2E}\")\n",
    "\n",
    "    # save figure\n",
    "    if saveFig:\n",
    "        plt.savefig('figure/' + fileName, dpi=300, bbox_inches='tight',transparent=True)\n",
    "    # plt.savefig('figure/neurondensity_grad.png',dpi=80,bbox_inches='tight')\n",
    "\n",
    "    # PVHierDf = generatePVHierDf(modelname, hierarchy_df, rawPV_df)\n",
    "    # plotFRvsHiernotebook(modelname, PVHierDf, True, True, noLabelAreas, yRange, 8, (5,3), 12, True, saveFigName)"
   ]
  },
  {
   "cell_type": "code",
   "execution_count": null,
   "id": "0b08d394",
   "metadata": {},
   "outputs": [],
   "source": []
  },
  {
   "cell_type": "code",
   "execution_count": null,
   "id": "fb94cacc",
   "metadata": {},
   "outputs": [],
   "source": [
    "#load model with inhibitory stablizing regime simulations. and make plots\n",
    "with open('results/model_V1_noLR.pkl', 'rb') as f:\n",
    "    model_base_noLR = pickle.load(f)\n",
    "\n",
    "with open('results/model_V1_noLR_noInh.pkl', 'rb') as f:\n",
    "    model_base_noLR_noInh = pickle.load(f)\n",
    "\n",
    "with open('results/model_V1_LR.pkl', 'rb') as f:\n",
    "    model_base_LR = pickle.load(f)\n",
    "\n",
    "with open('results/model_V1_LR_nolocalInh.pkl', 'rb') as f:\n",
    "    model_base_LR_nolocalInh = pickle.load(f)\n",
    "\n",
    "with open('results/model_V1_LR_noLRInh.pkl', 'rb') as f:\n",
    "    model_base_LR_noLRInh = pickle.load(f)\n",
    "\n",
    "\n",
    "noLabelAreas =  ['SSp-ll','SSp-ul','SSp-n','SSp-m','SSp-tr','VISli','VISpl','VISrl','RSPd','AUDv','SSs',\n",
    "                 'SSp-un','VISl','RSPv','RSPagl','GU','ECT','AId','VISpm','TEa','VISpor','VISam','VISal']\n",
    "makePcomp([model_base_noLR, model_base_noLR_noInh], ['With local Inh','No local Inh'], [-0.1,5.1], False,  False, True, False, noLabelAreas, 8, (5,3), 12, True, 'ISN/base_noLR_comp.pdf')\n",
    "makePcomp([model_base_LR,model_base_LR_nolocalInh, model_base_LR_noLRInh], \n",
    "          ['With local Inh + with long-range E-I','No local Inh + with long-range E-I', 'With local Inh + No long-range E-I'], None, False, False,True, False, noLabelAreas, 8, (5,3), 12, True, 'ISN/base_LR_comp.pdf')\n",
    "\n",
    "\n",
    "\n",
    "def makeP(modelname, yRange, noLabelAreas, saveFigName):\n",
    "    PVHierDf = generatePVHierDf(modelname, hierarchy_df, rawPV_df)\n",
    "    plotFRvsHiernotebook(modelname, PVHierDf, True, True, noLabelAreas, yRange, 8, (5,3), 12, True, saveFigName)\n",
    "\n",
    "# makeP(model_base_noLR, [-0.5,4.5], noLabelAreas, 'ISN/base_noLR.pdf')\n",
    "# makeP(model_base_noLR_noInh, [-0.5,4.5],noLabelAreas, 'ISN/base_noLR_noInh.pdf')\n",
    "# makeP(model_base_LR, [-0.5,4.5],noLabelAreas, 'ISN/base_LR.pdf')\n",
    "# makeP(model_base_LR_noLRInh, [-0.5,170], noLabelAreas, 'ISN/base_LR_noLRInh.pdf')\n"
   ]
  },
  {
   "cell_type": "code",
   "execution_count": null,
   "id": "9ce9309f",
   "metadata": {},
   "outputs": [],
   "source": [
    "#load model with inhibitory stablizing regime simulations. and make plots\n",
    "with open('results/model_V1_noLR_ISN.pkl', 'rb') as f:\n",
    "    model_base_noLR_ISN = pickle.load(f)\n",
    "\n",
    "with open('results/model_V1_noLR_noInh_ISN.pkl', 'rb') as f:\n",
    "    model_base_noLR_noInh_ISN = pickle.load(f)\n",
    "\n",
    "with open('results/model_V1_LR_ISN.pkl', 'rb') as f:\n",
    "    model_base_LR_ISN = pickle.load(f)\n",
    "\n",
    "with open('results/model_V1_LR_ISN_nolocalInh.pkl', 'rb') as f:\n",
    "    model_base_LR_ISN_nolocalInh = pickle.load(f)\n",
    "\n",
    "with open('results/model_V1_LR_ISN_noLRInh.pkl', 'rb') as f:\n",
    "    model_base_LR_ISN_noLRInh = pickle.load(f)\n",
    "\n",
    "\n",
    "noLabelAreas =  ['SSp-ll','SSp-ul','SSp-n','SSp-m','SSp-tr','VISli','VISpl','VISrl','RSPd','AUDv','SSs',\n",
    "                 'SSp-un','VISl','RSPv','RSPagl','GU','ECT','AId','VISpm','TEa','VISpor','VISam','VISal']\n",
    "makePcomp([model_base_noLR_ISN, model_base_noLR_noInh_ISN], ['With local Inh','No local Inh'], [-3,71], False, False, False,  False, noLabelAreas, 8, (5,3), 12, True, 'ISN/base_noLR_ISN_comp.pdf')\n",
    "makePcomp([model_base_LR_ISN,model_base_LR_ISN_nolocalInh, model_base_LR_ISN_noLRInh], ['With local Inh + with LR Inh','No local Inh + with LR Inh', 'With local Inh + No LR Inh'], None, False, False, False, False, noLabelAreas, 8, (5,3), 12, True, 'ISN/base_LR_ISN_comp.pdf')\n",
    "\n",
    "\n"
   ]
  },
  {
   "cell_type": "code",
   "execution_count": null,
   "id": "95941b97",
   "metadata": {},
   "outputs": [],
   "source": [
    "# bistablity plot\n",
    "with open('results/model_V1_noLR_ISN_bistable.pkl', 'rb') as f:\n",
    "    model_noLR_ISN_bistable = pickle.load(f)\n",
    "# noLabelAreasPV = ['SSp-ll','SSp-ul','SSp-n','SSp-m','SSp-tr','VISli','VISpl','VISrl','RSPd','AUDv','SSs','AUDd','RSPv','VISC', \n",
    "                #   'ECT', 'FRP', 'VISpm', 'VISal','VISpor','AUDp','ACAd']\n",
    "# noLabelAreas = ['SSp-ll','SSp-ul','SSp-n','SSp-m','SSp-tr','VISli','VISpl','VISrl','RSPd','AUDv','SSs','AUDd','RSPv', \n",
    "#                   'ECT', 'FRP', 'VISpm', 'VISal','VISpor','AUDp','ACAd']\n",
    "# plotFRvsrawPVnotebook(model_noLR_ISN_bistable, rawPV_df, True, True, noLabelAreasPV, [-2,35], 8, (5,3), 12, True, 'ISN/V1_bistable.pdf')\n",
    "makeP(model_noLR_ISN_bistable, [-2,35], area_list, 'ISN/V1_bistable.pdf')"
   ]
  },
  {
   "cell_type": "code",
   "execution_count": null,
   "id": "be50db5c",
   "metadata": {},
   "outputs": [],
   "source": [
    "# plot the LR network with ISN\n",
    "with open('results/model_V1_ISN.pkl', 'rb') as f:\n",
    "    model_V1_ISN = pickle.load(f)\n",
    "noLabelAreas =  ['SSp-ll','SSp-ul','SSp-n','SSp-m','SSp-tr','VISli','VISpl','VISrl','RSPd','AUDv','SSs',\n",
    "                 'SSp-un','VISl','RSPv','RSPagl','GU','ECT','AId','VISpm','TEa','VISpor','VISam','VISal']\n",
    "makeP(model_V1_ISN, None, area_list, 'ISN/V1_ISN.pdf')"
   ]
  },
  {
   "cell_type": "code",
   "execution_count": null,
   "id": "15cdf70f",
   "metadata": {},
   "outputs": [],
   "source": []
  },
  {
   "cell_type": "code",
   "execution_count": null,
   "id": "7b9c9bb2",
   "metadata": {},
   "outputs": [],
   "source": [
    "# bistablity plot\n",
    "with open('results/model_V1_noLR_ISN_bistable.pkl', 'rb') as f:\n",
    "    model_noLR_ISN_bistable = pickle.load(f)\n",
    "# noLabelAreasPV = ['SSp-ll','SSp-ul','SSp-n','SSp-m','SSp-tr','VISli','VISpl','VISrl','RSPd','AUDv','SSs','AUDd','RSPv','VISC', \n",
    "                #   'ECT', 'FRP', 'VISpm', 'VISal','VISpor','AUDp','ACAd']\n",
    "# noLabelAreas = ['SSp-ll','SSp-ul','SSp-n','SSp-m','SSp-tr','VISli','VISpl','VISrl','RSPd','AUDv','SSs','AUDd','RSPv', \n",
    "#                   'ECT', 'FRP', 'VISpm', 'VISal','VISpor','AUDp','ACAd']\n",
    "plotFRvsrawPVnotebook(model_noLR_ISN_bistable, rawPV_df, True, True, noLabelAreasPV, [-2,35], 8, (5,3), 12, True, 'ISN/V1_bistable_PV.pdf')\n",
    "# makeP(model_noLR_ISN_bistable, [-2,35], area_list, 'ISN/V1_bistable.pdf')"
   ]
  },
  {
   "cell_type": "code",
   "execution_count": null,
   "id": "6d85de66",
   "metadata": {},
   "outputs": [],
   "source": []
  }
 ],
 "metadata": {
  "kernelspec": {
   "display_name": "Python 3.6.7 ('base')",
   "language": "python",
   "name": "python3"
  },
  "language_info": {
   "codemirror_mode": {
    "name": "ipython",
    "version": 3
   },
   "file_extension": ".py",
   "mimetype": "text/x-python",
   "name": "python",
   "nbconvert_exporter": "python",
   "pygments_lexer": "ipython3",
   "version": "3.6.7"
  },
  "vscode": {
   "interpreter": {
    "hash": "aceb219ff324d9a10c53094f909dc059ecbb47474a96ca91c9b06a1e6187b787"
   }
  }
 },
 "nbformat": 4,
 "nbformat_minor": 5
}
