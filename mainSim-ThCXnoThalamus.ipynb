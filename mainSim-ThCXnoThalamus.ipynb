{
 "cells": [
  {
   "cell_type": "code",
   "execution_count": null,
   "id": "nervous-study",
   "metadata": {
    "ExecuteTime": {
     "end_time": "2022-01-20T19:31:27.917768Z",
     "start_time": "2022-01-20T19:31:27.915755Z"
    }
   },
   "outputs": [],
   "source": [
    "# mainSim code\n",
    "# thalamic model\n",
    "# AUG 9 2021"
   ]
  },
  {
   "cell_type": "code",
   "execution_count": null,
   "id": "according-flush",
   "metadata": {
    "ExecuteTime": {
     "end_time": "2022-03-26T22:11:13.713794Z",
     "start_time": "2022-03-26T22:11:10.830370Z"
    }
   },
   "outputs": [],
   "source": [
    "import numpy as np\n",
    "import scipy as sp\n",
    "import matplotlib as mpl\n",
    "import matplotlib.pyplot as plt\n",
    "import pandas as pd\n",
    "import brian2\n",
    "\n",
    "import pickle\n",
    "import copy\n",
    "\n",
    "import seaborn as sns\n"
   ]
  },
  {
   "cell_type": "code",
   "execution_count": null,
   "id": "ecological-cradle",
   "metadata": {
    "ExecuteTime": {
     "end_time": "2022-03-26T22:11:13.789164Z",
     "start_time": "2022-03-26T22:11:13.781391Z"
    },
    "scrolled": false
   },
   "outputs": [],
   "source": [
    "# load helper functions\n",
    "from helper import generate_pref, plot_pref\n",
    "import modelHelper\n",
    "\n",
    "# load model class\n",
    "from circuitModel import model"
   ]
  },
  {
   "cell_type": "code",
   "execution_count": null,
   "id": "suited-stephen",
   "metadata": {
    "ExecuteTime": {
     "end_time": "2022-03-26T22:11:22.780100Z",
     "start_time": "2022-03-26T22:11:22.752994Z"
    }
   },
   "outputs": [],
   "source": [
    "# load arealist\n",
    "area_list = list(np.loadtxt('results/area_list.csv', delimiter=',', dtype='str'))\n",
    "thal_list = list(np.loadtxt('results/thal_list.csv', delimiter=',', dtype='str'))\n",
    "# load connectivity \n",
    "conn_cxcx = np.loadtxt('results/conn_cxcx.csv', delimiter=',')\n",
    "conn_cxth = np.loadtxt('results/conn_cxth.csv', delimiter=',')\n",
    "conn_thcx = np.loadtxt('results/conn_thcx.csv', delimiter=',')\n",
    "\n",
    "# load interneuron density\n",
    "normPVgrad_df = pd.read_csv('results/dfPV.csv', header = 0, index_col=0)\n",
    "normSSTgrad_df = pd.read_csv('results/dfSST.csv', header = 0, index_col=0)\n",
    "\n",
    "# load hierarchy\n",
    "hierarchy_df = pd.read_csv('results/dfHier.csv', header=0, index_col=0)\n",
    "hierarchy = np.array(hierarchy_df['hierarchy index'])\n",
    "\n",
    "# load thalamus hierarchy\n",
    "thal_hierarchy_df = pd.read_csv('results/dfThHier.csv', header=0, index_col=0)\n",
    "thal_hierarchy = np.array(thal_hierarchy_df['THhier'])"
   ]
  },
  {
   "cell_type": "code",
   "execution_count": null,
   "id": "corrected-surprise",
   "metadata": {
    "ExecuteTime": {
     "end_time": "2022-03-27T00:34:09.554773Z",
     "start_time": "2022-03-27T00:34:09.549538Z"
    }
   },
   "outputs": [],
   "source": [
    "# define divisions from Harris et al.\n",
    "div = {'somatomotor':['SSp-bfd','SSp-tr','SSp-ll','SSp-ul',\n",
    "                     'SSp-un','SSp-n','SSp-m','SSs','MOp','MOs'],\n",
    "      'visual':['VISal','VISl','VISp','VISpl',\n",
    "                'VISli','VISpor','VISrl'],\n",
    "      'medial':['VISa','VISam','VISpm','RSPagl',\n",
    "               'RSPd','RSPv'],\n",
    "      'prefrontal':['FRP','ACAd','ACAv','PL',\n",
    "                   'ILA','ORBl','ORBm','ORBvl'],\n",
    "      'lateral':['AId','AIv','AIp','VISC',\n",
    "                 'GU','TEa','PERI','ECT'],\n",
    "      'auditory':['AUDd','AUDp','AUDpo','AUDv']}\n",
    "\n",
    "div_color_list = np.array([[255, 140, 0],\n",
    "                           [169, 164, 217],\n",
    "                           [22, 37, 128],\n",
    "                           [220,20,60],\n",
    "                           [218,165,32],\n",
    "                           [91,  0,  105]])/255\n",
    "div_name_list = ['somatomotor',\n",
    "                 'visual',\n",
    "                 'medial',\n",
    "                 'prefrontal',\n",
    "                 'lateral',\n",
    "                 'auditory']"
   ]
  },
  {
   "cell_type": "code",
   "execution_count": null,
   "id": "threatened-donor",
   "metadata": {
    "ExecuteTime": {
     "end_time": "2022-03-27T00:34:10.849778Z",
     "start_time": "2022-03-27T00:34:10.832686Z"
    }
   },
   "outputs": [],
   "source": [
    "with open('results/allparsThal.pkl', 'rb') as f:\n",
    "    [parameters, conn_cxcx, pref_matrix,\n",
    "         hierarchy_df, normPVgrad_df, normSSTgrad_df,\n",
    "         area_list, conn_thcx, conn_cxth, thal_list] = pickle.load(f)"
   ]
  },
  {
   "cell_type": "code",
   "execution_count": null,
   "id": "wireless-yesterday",
   "metadata": {
    "ExecuteTime": {
     "end_time": "2022-03-27T00:34:12.137445Z",
     "start_time": "2022-03-27T00:34:11.493118Z"
    },
    "scrolled": true
   },
   "outputs": [],
   "source": [
    "# parameters['g_cx_th'] = 0.32 * brian2.nA   # 0.15 # 0.15*brian2.nA  # 0.18*brian2.nA         # 0.1      * brian2.nA\n",
    "parameters['g_cx_th'] = 0.0 * brian2.nA   # 0.15 # 0.15*brian2.nA  # 0.18*brian2.nA         # 0.1      * brian2.nA\n",
    "\n",
    "# # thalamic input to cortex = th_cx    mm22\n",
    "# parameters['g_th_cx_E_mean'] = 0.70 * brian2.nA  # 0.8  #1.1  #1.85\n",
    "# # thalamic input to cortex = th_cx    mm33\n",
    "# parameters['g_th_cx_I_mean'] = parameters['g_th_cx_E_mean'] * 2.3\n",
    "\n",
    "######\n",
    "thcxmodel = True\n",
    "model_V1_thal_noThal = model(parameters, False, conn_cxcx, pref_matrix, hierarchy_df, normPVgrad_df, normSSTgrad_df, area_list, thcxmodel, conn_thcx, conn_cxth, thal_list)    \n",
    "if thcxmodel:\n",
    "    model_V1_thal_noThal.add_input(parameters['stim_strength'], ['VISp'], parameters['stim_on'], parameters['stim_off'], 'E1')\n",
    "    # model_V1_thal_noThal.add_input(10*parameters['stim_strength'],['MOs'], parameters['stim_on'] + parameters['stim_off'], parameters['trial_length'], 'I')\n",
    "\n",
    "model_V1_thal_noThal.run_sim(vocal_prompt = False)\n",
    "[persistentactlist, baselineactlist, LRtoElist, LRtoIlist] = model_V1_thal_noThal.save_delay_activity('tempdata/', False)\n",
    "if model_V1_thal_noThal.thcxmodel == True:\n",
    "    th_persistentactlist = model_V1_thal_noThal.save_th_delay_activity('tempdata/',False)\n"
   ]
  },
  {
   "cell_type": "code",
   "execution_count": null,
   "id": "collect-function",
   "metadata": {
    "ExecuteTime": {
     "end_time": "2022-03-30T05:50:29.343221Z",
     "start_time": "2022-03-30T05:50:19.802632Z"
    },
    "code_folding": [],
    "scrolled": false
   },
   "outputs": [],
   "source": [
    "savefigflag = False\n",
    "[persistentactlist,baselineactlist,LRtoElist,LRtoIlist] = model_V1_thal_noThal.save_delay_activity('tempdata/',False)\n",
    "# generate firing rate distribution\n",
    "preparatory_threshold = 10\n",
    "PAthreshold = 5 #Hz\n",
    "th_PAthreshold = 5 #Hz\n",
    "persistentact_df =  model_V1_thal_noThal.generatePAdf(PAthreshold)\n",
    "if model_V1_thal_noThal.thcxmodel == True:\n",
    "    th_persistentact_df = model_V1_thal_noThal.generate_th_PAdf(th_PAthreshold, thal_hierarchy)\n",
    "\n",
    "model_V1_thal_noThal.plotFRvsHier(False, True, 2, (10,6), 24, False, 'FRvsHier.pdf')\n",
    "model_V1_thal_noThal.plotFRvsPV(False, True, 2, (10,6), 24, False, 'FRvsPV.pdf')\n",
    "model_V1_thal_noThal.plotFRallarea(plot_interneuron = False, ylimit = 60, savefig = savefigflag, figfilename = 'FRallcortex.pdf')\n",
    "if model_V1_thal_noThal.thcxmodel == True:\n",
    "    model_V1_thal_noThal.plotFRthalarea(savefig = savefigflag, ylimit = 60, figfilename = 'FRallthalamus.pdf')\n",
    "#     model_V1.plot_th_FRvshier(annotation_adjust = False)\n"
   ]
  },
  {
   "cell_type": "code",
   "execution_count": null,
   "id": "7d0b8b4f",
   "metadata": {},
   "outputs": [],
   "source": []
  },
  {
   "cell_type": "code",
   "execution_count": null,
   "id": "neural-egypt",
   "metadata": {
    "ExecuteTime": {
     "end_time": "2022-03-27T00:52:21.464391Z",
     "start_time": "2022-03-27T00:52:21.099156Z"
    }
   },
   "outputs": [],
   "source": [
    "with open('results/model_V1_thal_noThal.pkl', 'wb') as f:\n",
    "    pickle.dump(model_V1_thal_noThal, f)"
   ]
  },
  {
   "cell_type": "code",
   "execution_count": null,
   "id": "a3abf0da",
   "metadata": {},
   "outputs": [],
   "source": [
    "with open('results/allparsThal.pkl', 'rb') as f:\n",
    "    [parameters, conn_cxcx, pref_matrix,\n",
    "         hierarchy_df, normPVgrad_df, normSSTgrad_df,\n",
    "         area_list, conn_thcx, conn_cxth, thal_list] = pickle.load(f)\n",
    "\n",
    "######\n",
    "parameters['inh_stim_on'] = parameters['stim_on'] + parameters['stim_off']\n",
    "parameters['inh_stim_off'] = parameters['trial_length']\n",
    "parameters['inhibitoryInput'] = True\n",
    "\n",
    "thcxmodel = True\n",
    "model_V1_thal_inhibitThal = model(parameters, False, conn_cxcx, pref_matrix, hierarchy_df, normPVgrad_df, normSSTgrad_df, area_list, thcxmodel, conn_thcx, conn_cxth, thal_list)    \n",
    "if thcxmodel:\n",
    "    model_V1_thal_inhibitThal.add_input(parameters['stim_strength'], ['VISp'], parameters['stim_on'], parameters['stim_off'], 'E1')\n",
    "    model_V1_thal_inhibitThal.add_input_TH(-10*parameters['stim_strength'], thal_list, parameters['inh_stim_on'], parameters['inh_stim_off'], 'both')\n",
    "#     model_V1.add_input(10*parameters['stim_strength'],['MOs'], parameters['stim_on'] + parameters['stim_off'], parameters['trial_length'], 'I') \n",
    "\n",
    "model_V1_thal_inhibitThal.run_sim(vocal_prompt = False)\n",
    "[persistentactlist, baselineactlist, LRtoElist, LRtoIlist] = model_V1_thal_inhibitThal.save_delay_activity('tempdata/', False)\n",
    "if model_V1_thal_inhibitThal.thcxmodel == True:\n",
    "    th_persistentactlist = model_V1_thal_inhibitThal.save_th_delay_activity('tempdata/',False)\n",
    "    "
   ]
  },
  {
   "cell_type": "code",
   "execution_count": null,
   "id": "2981a1fa",
   "metadata": {},
   "outputs": [],
   "source": [
    "savefigflag = False\n",
    "# generate firing rate distribution\n",
    "preparatory_threshold = 10\n",
    "PAthreshold = 5 #Hz\n",
    "th_PAthreshold = 5 #Hz\n",
    "persistentact_df =  model_V1_thal_inhibitThal.generatePAdf(PAthreshold)\n",
    "if model_V1_thal_inhibitThal.thcxmodel == True:\n",
    "    th_persistentact_df = model_V1_thal_inhibitThal.generate_th_PAdf(th_PAthreshold, thal_hierarchy)\n",
    "\n",
    "model_V1_thal_inhibitThal.plotFRvsHier(False, True, 2, (10,6), 24, False, 'FRvsHier.pdf')\n",
    "model_V1_thal_inhibitThal.plotFRvsPV(False, True, 2, (10,6), 24, False, 'FRvsPV.pdf')\n",
    "model_V1_thal_inhibitThal.plotFRallarea(plot_interneuron = False, ylimit = 60, savefig = savefigflag, figfilename = 'FRallcortex.pdf')\n",
    "if model_V1_thal_inhibitThal.thcxmodel == True:\n",
    "    model_V1_thal_inhibitThal.plotFRthalarea(savefig = savefigflag, ylimit = 60, figfilename = 'FRallthalamus.pdf')\n",
    "#     model_V1.plot_th_FRvshier(annotation_adjust = False)"
   ]
  },
  {
   "cell_type": "code",
   "execution_count": null,
   "id": "6c7a8f17",
   "metadata": {},
   "outputs": [],
   "source": [
    "with open('results/model_V1_thal_inhibitThal.pkl', 'wb') as f:\n",
    "    pickle.dump(model_V1_thal_inhibitThal, f)"
   ]
  },
  {
   "cell_type": "code",
   "execution_count": null,
   "id": "c26650f3",
   "metadata": {},
   "outputs": [],
   "source": []
  }
 ],
 "metadata": {
  "kernelspec": {
   "display_name": "Python 3.6.7 ('base')",
   "language": "python",
   "name": "python3"
  },
  "language_info": {
   "codemirror_mode": {
    "name": "ipython",
    "version": 3
   },
   "file_extension": ".py",
   "mimetype": "text/x-python",
   "name": "python",
   "nbconvert_exporter": "python",
   "pygments_lexer": "ipython3",
   "version": "3.6.7"
  },
  "vscode": {
   "interpreter": {
    "hash": "aceb219ff324d9a10c53094f909dc059ecbb47474a96ca91c9b06a1e6187b787"
   }
  }
 },
 "nbformat": 4,
 "nbformat_minor": 5
}
